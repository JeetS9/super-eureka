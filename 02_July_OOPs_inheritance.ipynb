{
 "cells": [
  {
   "cell_type": "markdown",
   "id": "37b078fd",
   "metadata": {},
   "source": [
    "# 02 July Assignments"
   ]
  },
  {
   "cell_type": "markdown",
   "id": "d99da2d9",
   "metadata": {},
   "source": [
    "### Q.1. Explain what inheritance is in object-oriented programming and why it is used."
   ]
  },
  {
   "cell_type": "markdown",
   "id": "a50dc6ef",
   "metadata": {},
   "source": [
    "<p><strong>Ans:</strong></p>\n",
    "\n",
    "In object-oriented programming (OOP), inheritance is a fundamental concept that allows classes to inherit or acquire the properties and behaviors of other classes. It is a mechanism by which a new class, called the derived or subclass, can inherit and extend the features of an existing class, known as the base or superclass.\n",
    "\n",
    "Inheritance facilitates code reuse and promotes the creation of a hierarchical structure in which classes can be organized based on their similarities and relationships. It enables the subclass to inherit the fields, methods, and other members of the superclass, reducing the need to duplicate code. Instead, common characteristics and behaviors are defined once in the superclass and can be reused by multiple subclasses."
   ]
  },
  {
   "cell_type": "markdown",
   "id": "611e266a",
   "metadata": {},
   "source": [
    "<p>&nbsp;-----------------------------------------------------------------------------------&nbsp;&nbsp;</p>"
   ]
  },
  {
   "cell_type": "markdown",
   "id": "a93a7a0d",
   "metadata": {},
   "source": [
    "### Q.2. Discuss the concept of single inheritance and multiple inheritance, highlighting their differences and advantages."
   ]
  },
  {
   "cell_type": "markdown",
   "id": "bee38cf2",
   "metadata": {},
   "source": [
    "<p><strong>Ans:</strong></p>\n",
    "\n",
    "In object-oriented programming (OOP), single inheritance and multiple inheritance are two different approaches to class inheritance. They represent different ways in which a subclass can inherit from one or multiple superclasses. Let's discuss each concept and highlight their differences and advantages.\n",
    "\n",
    "<strong>Single Inheritance:</strong>\n",
    "\n",
    "Single inheritance refers to the inheritance relationship where a subclass inherits from a single superclass. In this approach, a subclass extends the functionality of a single parent class, allowing it to inherit the fields, methods, and behavior of that class. The subclass can add new features or override existing ones, but it has only one direct parent.\n",
    "\n",
    "<strong>Advantages of single inheritance:<strong>\n",
    "\n",
    "<strong>Simplicity:</strong> Single inheritance offers a simpler and more straightforward model of inheritance. It is easier to understand and reason about the relationships between classes when there is only one parent involved.\n",
    "\n",
    "<strong>Reduced complexity:</strong> With single inheritance, there is no ambiguity or conflicts that can arise from inheriting conflicting or overlapping features from multiple superclasses. This simplifies the design and implementation of the subclass.\n",
    "\n",
    "<strong>Encapsulation:</strong> Single inheritance supports encapsulation by allowing the subclass to inherit and access the protected and public members of its single superclass. It helps maintain data integrity and restricts direct access to internal implementation details.\n",
    "\n",
    "<strong>Multiple Inheritance:</strong>\n",
    "\n",
    "Multiple inheritance refers to the inheritance relationship where a subclass can inherit from multiple superclasses. In this approach, a subclass can extend the functionality of multiple parent classes simultaneously, combining their fields, methods, and behavior.\n",
    "\n",
    "<strong>Advantages of multiple inheritance:</strong>\n",
    "\n",
    "<strong>Code reuse and composition:</strong> Multiple inheritance facilitates the reuse of code by allowing a class to inherit from multiple superclasses. It enables the subclass to combine features from different classes, promoting code composition and flexibility.\n",
    "\n",
    "<strong>Expressive power:</strong> Multiple inheritance allows for the creation of complex class hierarchies, where a subclass can inherit from various classes that represent different aspects or roles. This expressive power can lead to more natural and intuitive modeling of real-world relationships.\n",
    "\n",
    "<strong>Mixins and interfaces:</strong> Multiple inheritance is often used to implement mixins and interfaces. Mixins are classes that provide additional functionality to multiple classes, and interfaces define a set of methods that a class must implement. Multiple inheritance enables the inclusion of these mixins or interfaces in a class hierarchy.\n",
    "\n",
    "However, multiple inheritance also comes with certain challenges and complexities:\n",
    "\n",
    "<strong>Diamond problem:</strong> The diamond problem is a common issue in multiple inheritance, which occurs when a subclass inherits from two or more superclasses that have a common superclass. It creates ambiguity in resolving method and attribute conflicts, requiring explicit handling or resolution.\n",
    "\n",
    "<strong>Increased complexity:</strong> Multiple inheritance can make the codebase more complex and harder to understand. The relationships between classes become more intricate, and potential conflicts or unintended dependencies may arise.\n",
    "\n",
    "<strong>Name clashes and ambiguity:</strong> Inheriting from multiple superclasses can lead to name clashes if the same method or attribute is defined in multiple parent classes. Resolving such conflicts can be challenging and requires careful handling.\n",
    "\n"
   ]
  },
  {
   "cell_type": "markdown",
   "id": "df3a6836",
   "metadata": {},
   "source": [
    "<p>&nbsp;-----------------------------------------------------------------------------------&nbsp;&nbsp;</p>"
   ]
  },
  {
   "cell_type": "markdown",
   "id": "a6fae295",
   "metadata": {},
   "source": [
    "### Q.3. Explain the terms \"base class\" and \"derived class\" in the context of inheritance."
   ]
  },
  {
   "cell_type": "markdown",
   "id": "de240356",
   "metadata": {},
   "source": [
    "<p><strong>Ans:</strong></p>\n",
    "\n",
    "In the context of inheritance, the terms \"base class\" and \"derived class\" are used to describe the relationship between classes involved in inheritance.\n",
    "\n",
    "<strong>Base Class:</strong>\n",
    "A base class, also known as a superclass or parent class, is the class from which another class inherits. It is the existing class that provides the initial set of attributes, methods, and behavior that can be inherited by one or more derived classes. The base class serves as a blueprint or template for the derived classes.\n",
    "\n",
    "In terms of the inheritance hierarchy, the base class occupies a higher position. It defines the common characteristics and behaviors that can be shared by multiple derived classes. A base class can have its own methods, properties, and attributes, which can be inherited or overridden by its derived classes.\n",
    "\n",
    "<strong>Derived Class:</strong>\n",
    "A derived class, also known as a subclass or child class, is a class that inherits the properties and behaviors from a base class. It extends or specializes the base class by adding new features, modifying existing ones, or overriding inherited methods. The derived class can also define its own unique attributes and methods in addition to those inherited from the base class.\n",
    "\n",
    "In terms of the inheritance hierarchy, the derived class occupies a lower position. It is created by specifying the base class as its parent during class declaration, indicating that it will inherit the characteristics of the base class.\n",
    "\n",
    "The derived class inherits all the accessible members (methods, properties, etc.) of the base class and can use them directly. It can also add new members, override inherited members, or introduce additional functionality specific to itself.\n"
   ]
  },
  {
   "cell_type": "markdown",
   "id": "20a12dd1",
   "metadata": {},
   "source": [
    "<p>&nbsp;-----------------------------------------------------------------------------------&nbsp;&nbsp;</p>"
   ]
  },
  {
   "cell_type": "markdown",
   "id": "fb2b974e",
   "metadata": {},
   "source": [
    "### Q.4. What is the significance of the \"protected\" access modifier in inheritance? How does it differ from \"private\" and \"public\" modifiers?"
   ]
  },
  {
   "cell_type": "markdown",
   "id": "92034d04",
   "metadata": {},
   "source": [
    "<p><strong>Ans:</strong></p>\n",
    "\n",
    "In object-oriented programming, access modifiers like \"protected,\" \"private,\" and \"public\" determine the visibility and accessibility of class members within a class hierarchy. \n",
    "\n",
    "<strong>\"Private\" Access Modifier:</strong>\n",
    "The \"private\" access modifier restricts the access to class members only within the same class where they are defined. Private members are not directly accessible by derived classes or instances of the class. They are meant to encapsulate internal implementation details and provide data hiding.\n",
    "\n",
    "<strong>\"Public\" Access Modifier:</strong>\n",
    "The \"public\" access modifier allows unrestricted access to class members from anywhere, including derived classes and instances of the class. Public members are accessible both within the class hierarchy and externally. They represent the interface of the class and are intended to be used and accessed by other classes or code.\n",
    "\n",
    "<strong>\"Protected\" Access Modifier:</strong>\n",
    "The \"protected\" access modifier provides access to class members within the same class and its derived classes. Protected members are not accessible from outside the class hierarchy. They allow derived classes to inherit and access certain members of the base class, promoting code reuse and specialization.\n",
    "\n",
    "The significance of the \"protected\" access modifier in inheritance can be summarized as follows:\n",
    "\n",
    "1. <strong>Inheritance and Code Reuse:</strong> Protected members allow derived classes to access and reuse the functionality and data of the base class. They facilitate code reuse by enabling derived classes to inherit and utilize the protected members without exposing them to external classes.\n",
    "\n",
    "2. <strong>Extension and Specialization:</strong> Derived classes can extend and specialize the behavior of protected members inherited from the base class. They can override methods, access and modify protected fields, and utilize protected properties to provide their own implementation while building upon the existing functionality.\n",
    "\n",
    "3. <strong>Encapsulation and Data Hiding:</strong> Protected members help maintain encapsulation and data hiding within the class hierarchy. By making certain members protected, they are shielded from direct external access while still being accessible to derived classes. This allows for controlled and limited visibility of class internals.\n"
   ]
  },
  {
   "cell_type": "markdown",
   "id": "3e831d52",
   "metadata": {},
   "source": [
    "<p>&nbsp;-----------------------------------------------------------------------------------&nbsp;&nbsp;</p>"
   ]
  },
  {
   "cell_type": "markdown",
   "id": "0202defd",
   "metadata": {},
   "source": [
    "### Q.5. What is the purpose of the \"super\" keyword in inheritance? Provide an example."
   ]
  },
  {
   "cell_type": "markdown",
   "id": "1a564b78",
   "metadata": {},
   "source": [
    "<p><strong>Ans:</strong></p>\n",
    "\n",
    "The \"<code>super</code>\" keyword is used in inheritance to refer to the immediate parent class or superclass. It provides a way to access and invoke the members (methods, properties, and constructors) of the superclass from the subclass. The \"<code>super</code>\" keyword is particularly useful when overriding methods or constructors in the subclass while still needing to utilize or extend the behavior of the superclass."
   ]
  },
  {
   "cell_type": "code",
   "execution_count": 5,
   "id": "6bcbc596",
   "metadata": {},
   "outputs": [
    {
     "name": "stdout",
     "output_type": "stream",
     "text": [
      "Hi Alice!, you are 12 years old!\n",
      "You are from A grade, your marks is 95!\n"
     ]
    }
   ],
   "source": [
    "# Example\n",
    "\n",
    "# Base class \"Person\"\n",
    "class Person:\n",
    "    \n",
    "    def __init__(self,name,age):\n",
    "        \n",
    "        self.name = name\n",
    "        self.age = age\n",
    "        \n",
    "    def display_info(self):\n",
    "        \n",
    "        print(f\"Hi {self.name}!, you are {self.age} years old!\")\n",
    "\n",
    "        \n",
    "        \n",
    "# Derived class \"Student\"\n",
    "class Student(Person):\n",
    "\n",
    "    def __init__(self,name,age,grade,marks):\n",
    "        \n",
    "        super().__init__(name,age)\n",
    "        self.grade = grade\n",
    "        self.marks = marks\n",
    "        \n",
    "    def display_status(self):\n",
    "        \n",
    "        super().display_info()\n",
    "        print(f\"You are from {self.grade} grade, your marks is {self.marks}!\")\n",
    "        \n",
    "        \n",
    "student1 = Student(\"Alice\",12,\"A\",95)\n",
    "\n",
    "student1.display_status()"
   ]
  },
  {
   "cell_type": "markdown",
   "id": "9c39436f",
   "metadata": {},
   "source": [
    "<p>&nbsp;-----------------------------------------------------------------------------------&nbsp;&nbsp;</p>"
   ]
  },
  {
   "cell_type": "markdown",
   "id": "02e285ed",
   "metadata": {},
   "source": [
    "### Q.6. Create a base class called \"Vehicle\" with attributes like \"make\", \"model\", and \"year\".Then, create a derived class called \"Car\" that inherits from \"Vehicle\" and adds an attribute called \"fuel_type\". Implement appropriate methods in both classes."
   ]
  },
  {
   "cell_type": "code",
   "execution_count": 6,
   "id": "0d740576",
   "metadata": {},
   "outputs": [
    {
     "name": "stdout",
     "output_type": "stream",
     "text": [
      "The vehicle BMW,X Series is 1978 make!\n",
      "The fuel type of X Series is Petrol!\n"
     ]
    }
   ],
   "source": [
    "class Vehicle():\n",
    "    \n",
    "    def __init__(self,make,model,year):\n",
    "        \n",
    "        self.make = make\n",
    "        self.model = model\n",
    "        self.year = year\n",
    "        \n",
    "    def vehicle_info(self):\n",
    "        \n",
    "        print(f\"The vehicle {self.make},{self.model} is {self.year} make!\")\n",
    "        \n",
    "        \n",
    "class Car(Vehicle):\n",
    "    \n",
    "    def __init__(self,make,model,year,fuel_type):\n",
    "        \n",
    "        super().__init__(make,model,year)\n",
    "        self.fuel_type = fuel_type\n",
    "        \n",
    "    def car_info(self):\n",
    "        \n",
    "        super().vehicle_info()\n",
    "        print(f\"The fuel type of {self.model} is {self.fuel_type}!\")\n",
    "        \n",
    "\n",
    "car1 = Car(\"BMW\",\"X Series\",1978,\"Petrol\")\n",
    "car1.car_info()"
   ]
  },
  {
   "cell_type": "markdown",
   "id": "7848b019",
   "metadata": {},
   "source": [
    "<p>&nbsp;-----------------------------------------------------------------------------------&nbsp;&nbsp;</p>"
   ]
  },
  {
   "cell_type": "markdown",
   "id": "4e022673",
   "metadata": {},
   "source": [
    "### Q.7. Create a base class called \"Employee\" with attributes like \"name\" and \"salary.\" Derive two classes, \"Manager\" and \"Developer,\" from \"Employee.\" Add an additional attribute called \"department\" for the \"Manager\" class and \"programming_language\" for the \"Developer\" class."
   ]
  },
  {
   "cell_type": "code",
   "execution_count": 7,
   "id": "9e513f02",
   "metadata": {},
   "outputs": [
    {
     "name": "stdout",
     "output_type": "stream",
     "text": [
      "The employee TOM has salary RS 100000 per month!\n",
      "TOM is a manager, in HIRING department!\n",
      " \n",
      "The employee JERRY has salary RS 200000 per month!\n",
      "JERRY is a developer, expert in PYTHON programming language!\n"
     ]
    }
   ],
   "source": [
    "class Employee():\n",
    "    \n",
    "    def __init__(self,name,salary):\n",
    "        \n",
    "        self.name = name\n",
    "        self.salary = salary\n",
    "        \n",
    "    def employee_info(self):\n",
    "        \n",
    "        print(f\"The employee {self.name} has salary RS {self.salary} per month!\")\n",
    "  \n",
    "\n",
    "\n",
    "class Manager(Employee):\n",
    "    \n",
    "    def __init__(self,name,salary,department):\n",
    "        \n",
    "        super().__init__(name,salary)\n",
    "        self.department = department\n",
    "        \n",
    "    def manager_info(self):\n",
    "        \n",
    "        super().employee_info()\n",
    "        print(f\"{self.name} is a manager, in {self.department} department!\")\n",
    " \n",
    "\n",
    "\n",
    "class Developer(Employee):\n",
    "    \n",
    "    def __init__(self,name,salary,programming_language):\n",
    "        \n",
    "        super().__init__(name,salary)\n",
    "        self.programming_language = programming_language\n",
    "        \n",
    "    def developer_info(self):\n",
    "        \n",
    "        super().employee_info()\n",
    "        print(f\"{self.name} is a developer, expert in {self.programming_language} programming language!\")\n",
    "\n",
    "\n",
    "manager1 = Manager(\"TOM\",\"100000\",\"HIRING\")\n",
    "manager1.manager_info()\n",
    "\n",
    "print(\" \")\n",
    "developer1 = Developer(\"JERRY\",\"200000\",\"PYTHON\")\n",
    "developer1.developer_info()"
   ]
  },
  {
   "cell_type": "markdown",
   "id": "bc91dc51",
   "metadata": {},
   "source": [
    "<p>&nbsp;-----------------------------------------------------------------------------------&nbsp;&nbsp;</p>"
   ]
  },
  {
   "cell_type": "markdown",
   "id": "7ad740c0",
   "metadata": {},
   "source": [
    "### Q.8. Design a base class called \"Shape\" with attributes like \"colour\" and \"border_width.\" Create derived classes, \"Rectangle\" and \"Circle,\" that inherit from \"Shape\" and add specific attributes like \"length\" and \"width\" for the \"Rectangle\" class and \"radius\" for the \"Circle\" class."
   ]
  },
  {
   "cell_type": "code",
   "execution_count": 8,
   "id": "3cfced1a",
   "metadata": {},
   "outputs": [
    {
     "name": "stdout",
     "output_type": "stream",
     "text": [
      "The RED shape has border width of 5 mm!\n",
      "The lenth of the rectangle 50 cm\n",
      "The width of the rectangle 20 cm\n",
      " \n",
      "The RED shape has border width of 5 mm!\n",
      "The radius of the circle is 50!\n"
     ]
    }
   ],
   "source": [
    "class Shape():\n",
    "    \n",
    "    def __init__(self,colour,border_width):\n",
    "        \n",
    "        self.colour = colour\n",
    "        self.border_width = border_width\n",
    "        \n",
    "    def shape_info(self):\n",
    "        \n",
    "        print(f\"The {self.colour} shape has border width of {self.border_width} mm!\")\n",
    "  \n",
    "\n",
    "\n",
    "class Rectangle(Shape):\n",
    "    \n",
    "    def __init__(self,colour,border_width,length,width):\n",
    "        \n",
    "        super().__init__(colour,border_width)\n",
    "        self.length = length\n",
    "        self.width = width\n",
    "        \n",
    "    def rectangle_info(self):\n",
    "        \n",
    "        super().shape_info()\n",
    "        print(f\"The lenth of the rectangle {self.length} cm\\nThe width of the rectangle {self.width} cm\")\n",
    " \n",
    "\n",
    "\n",
    "class Circle(Shape):\n",
    "    \n",
    "    def __init__(self,colour,border_width,radius):\n",
    "        \n",
    "        super().__init__(colour,border_width)\n",
    "        self.radius = radius\n",
    "        \n",
    "    def circle_info(self):\n",
    "        \n",
    "        super().shape_info()\n",
    "        print(f\"The radius of the circle is {self.radius}!\")\n",
    "\n",
    "\n",
    "rectangle1 = Rectangle(\"RED\",5,50,20)\n",
    "rectangle1.rectangle_info()\n",
    "\n",
    "print(\" \")\n",
    "circle1 = Circle(\"RED\",5,50)\n",
    "circle1.circle_info()"
   ]
  },
  {
   "cell_type": "markdown",
   "id": "fb3ad6a5",
   "metadata": {},
   "source": [
    "<p>&nbsp;-----------------------------------------------------------------------------------&nbsp;&nbsp;</p>"
   ]
  },
  {
   "cell_type": "markdown",
   "id": "3afa638d",
   "metadata": {},
   "source": [
    "### Q.9. Create a base class called \"Device\" with attributes like \"brand\" and \"model.\" Derive two classes, \"Phone\" and \"Tablet,\" from \"Device.\" Add specific attributes like \"screen_size\" for the \"Phone\" class and \"battery_capacity\" for the \"Tablet\" class."
   ]
  },
  {
   "cell_type": "code",
   "execution_count": 9,
   "id": "3a339be2",
   "metadata": {},
   "outputs": [
    {
     "name": "stdout",
     "output_type": "stream",
     "text": [
      "Apple has launched an new device named iphone!\n",
      "The screen size of iphone is 5.5 inch!\n",
      " \n",
      "Apple has launched an new device named ipad!\n",
      "The battery capacity of ipad is 5 hours!\n"
     ]
    }
   ],
   "source": [
    "class Device():\n",
    "    \n",
    "    def __init__(self,brand,model):\n",
    "        \n",
    "        self.brand = brand\n",
    "        self.model = model\n",
    "        \n",
    "    def device_info(self):\n",
    "        \n",
    "        print(f\"{self.brand} has launched an new device named {self.model}!\")\n",
    "        \n",
    "        \n",
    "class Phone(Device):\n",
    "    \n",
    "    def __init__(self,brand,model,screen_size):\n",
    "        \n",
    "        super().__init__(brand,model)\n",
    "        self.screen_size = screen_size\n",
    "        \n",
    "    def phone_info(self):\n",
    "        \n",
    "        super().device_info()\n",
    "        print(f\"The screen size of {self.model} is {self.screen_size} inch!\")\n",
    "        \n",
    "\n",
    "        \n",
    "class Tablet(Device):\n",
    "    \n",
    "    def __init__(self,brand,model,battery_capacity):\n",
    "        \n",
    "        super().__init__(brand,model)\n",
    "        self.battery_capacity = battery_capacity\n",
    "        \n",
    "    def tablet_info(self):\n",
    "        \n",
    "        super().device_info()\n",
    "        print(f\"The battery capacity of {self.model} is {self.battery_capacity} hours!\")\n",
    "        \n",
    "phone1 = Phone(\"Apple\",\"iphone\",5.5)\n",
    "phone1.phone_info()\n",
    "\n",
    "print(\" \")\n",
    "\n",
    "tablet1 = Tablet(\"Apple\",\"ipad\",5)\n",
    "tablet1.tablet_info()"
   ]
  },
  {
   "cell_type": "markdown",
   "id": "a639fea2",
   "metadata": {},
   "source": [
    "<p>&nbsp;-----------------------------------------------------------------------------------&nbsp;&nbsp;</p>"
   ]
  },
  {
   "cell_type": "markdown",
   "id": "e474ef17",
   "metadata": {},
   "source": [
    "### Q.10. Create a base class called \"BankAccount\" with attributes like \"account_number\" and \"balance.\" Derive two classes, \"SavingsAccount\" and \"CheckingAccount,\" from \"BankAccount.\" Add specific methods like \"calculate_interest\" for the \"SavingsAccount\" class and \"deduct_fees\" for the \"CheckingAccount\" class."
   ]
  },
  {
   "cell_type": "code",
   "execution_count": 10,
   "id": "6f2dd256",
   "metadata": {},
   "outputs": [
    {
     "name": "stdout",
     "output_type": "stream",
     "text": [
      "Your A/C no is: ac100 \n",
      "and A/C balance is 2000!\n",
      " \n",
      "Your balance before deposit: 2000\n",
      "Your deposit amount: 1000\n",
      "Your balance after deposit: 3000\n",
      " \n",
      "Oops! Not sufficient fund in your A/C\n"
     ]
    }
   ],
   "source": [
    "class BankAccount:\n",
    "    \n",
    "    def __init__(self,account_number,balance):\n",
    "        \n",
    "        self.account_number = account_number\n",
    "        self.balance = balance\n",
    "        \n",
    "    def account_info(self):\n",
    "        \n",
    "        print(f\"Your A/C no is: {self.account_number} \\nand A/C balance is {self.balance}!\")\n",
    "        \n",
    "    def deposit(self,d_amount):\n",
    "        \n",
    "        print(f\"Your balance before deposit: {self.balance}\")\n",
    "        print(f\"Your deposit amount: {d_amount}\")\n",
    "        self.balance += d_amount\n",
    "        print(f\"Your balance after deposit: {self.balance}\")\n",
    "        \n",
    "    def withdrwal(self,w_amount):\n",
    "        \n",
    "        if w_amount <= self.balance:\n",
    "            \n",
    "            print(f\"Your balance before withdrwal: {self.balance}\")\n",
    "            print(f\"Your withdrwal amount: {w_amount}\")\n",
    "            self.balance -= w_amount\n",
    "            print(f\"Your balance after withdrwal: {self.balance}\")\n",
    "            \n",
    "        else:\n",
    "            \n",
    "            print(\"Oops! Not sufficient fund in your A/C\")\n",
    "            \n",
    "ac1 = BankAccount(\"ac100\",2000)\n",
    "ac1.account_info()\n",
    "\n",
    "print(\" \")\n",
    "ac1.deposit(1000)\n",
    "print(\" \")\n",
    "ac1.withdrwal(10000)"
   ]
  },
  {
   "cell_type": "markdown",
   "id": "18764c9e",
   "metadata": {},
   "source": [
    "<p>&nbsp;-----------------------------------------------------------------------------------&nbsp;&nbsp;</p>"
   ]
  }
 ],
 "metadata": {
  "kernelspec": {
   "display_name": "Python 3 (ipykernel)",
   "language": "python",
   "name": "python3"
  },
  "language_info": {
   "codemirror_mode": {
    "name": "ipython",
    "version": 3
   },
   "file_extension": ".py",
   "mimetype": "text/x-python",
   "name": "python",
   "nbconvert_exporter": "python",
   "pygments_lexer": "ipython3",
   "version": "3.10.9"
  }
 },
 "nbformat": 4,
 "nbformat_minor": 5
}
