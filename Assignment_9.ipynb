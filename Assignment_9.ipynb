{
 "cells": [
  {
   "cell_type": "markdown",
   "id": "4d44f22a",
   "metadata": {},
   "source": [
    "# 11 June\n",
    "\n",
    "# Python Basic - 4"
   ]
  },
  {
   "cell_type": "markdown",
   "id": "46e5c5ae",
   "metadata": {},
   "source": [
    "### Q.1. What is a lambda function in Python, and how does it differ from a regular function?."
   ]
  },
  {
   "cell_type": "markdown",
   "id": "4584aa63",
   "metadata": {},
   "source": [
    "<p><strong>Ans:</strong></p>\n",
    "\n",
    "<p><strong>In Python, a lambda function, also known as an anonymous function, is a small, nameless, single-expression function. It is defined using the lambda keyword, followed by a list of arguments, a colon (:), and an expression. </strong></p>\n",
    "\n",
    "\n",
    "<ol>\n",
    "\n",
    "<li>\n",
    "<p>Syntax: Lambda functions are defined in a more concise syntax compared to regular functions. They consist of a single line of code and don't require the use of the def keyword or the return statement.</p>\n",
    "</li>\n",
    "<li>\n",
    "<p>Namelessness: Lambda functions are anonymous, meaning they don't have a name. They are created on the fly and can be assigned to variables for later use.</p>\n",
    "</li>\n",
    "<li>\n",
    "<p>Simplicity: Lambda functions are intended for simple, one-liner expressions. They are not suitable for complex logic or functions with multiple statements. Regular functions, on the other hand, can have multiple lines of code and are more flexible for handling complex tasks.</p>\n",
    "</li>\n",
    "<li>\n",
    "<p>Scope:  Lambda functions are limited to their expression and cannot contain statements or assignments. They can only reference variables from the enclosing scope.</p>\n",
    "</li>\n",
    "</ol>\n",
    "  "
   ]
  },
  {
   "cell_type": "code",
   "execution_count": 1,
   "id": "7fe73148",
   "metadata": {},
   "outputs": [
    {
     "name": "stdout",
     "output_type": "stream",
     "text": [
      "Lambda Function\n",
      "\n",
      "The summation of the two numbers is:  5\n"
     ]
    }
   ],
   "source": [
    "# Example\n",
    "\n",
    "# Lambda Function\n",
    "print(\"Lambda Function\")\n",
    "\n",
    "add_no = lambda x,y : x+y\n",
    "\n",
    "print(\"\\nThe summation of the two numbers is: \", add_no(2,3))"
   ]
  },
  {
   "cell_type": "markdown",
   "id": "6f20a36a",
   "metadata": {},
   "source": [
    "<p>&nbsp;-----------------------------------------------------------------------------------&nbsp;&nbsp;</p>"
   ]
  },
  {
   "cell_type": "markdown",
   "id": "3cdae529",
   "metadata": {},
   "source": [
    "### Q.2. Can a lambda function in Python have multiple arguments? If yes, how can you define and use them?"
   ]
  },
  {
   "cell_type": "markdown",
   "id": "c47b09e5",
   "metadata": {},
   "source": [
    "<p><strong>Ans:</strong></p>\n",
    "\n",
    "\n",
    "Yes, a lambda function in Python can have multiple arguments. To define and use multiple arguments in a lambda function, you can separate them with commas within the argument list. Here's an example:"
   ]
  },
  {
   "cell_type": "code",
   "execution_count": 2,
   "id": "9649ed8c",
   "metadata": {},
   "outputs": [
    {
     "name": "stdout",
     "output_type": "stream",
     "text": [
      "\n",
      "The multiplication of the three numbers is:  30\n"
     ]
    }
   ],
   "source": [
    "# Example\n",
    "\n",
    "# Lambda function with three arguments\n",
    "\n",
    "multi_no = lambda x,y,z : x*y*z \n",
    "\n",
    "print(\"\\nThe multiplication of the three numbers is: \", multi_no(2,3,5))"
   ]
  },
  {
   "cell_type": "markdown",
   "id": "6312c05c",
   "metadata": {},
   "source": [
    "<p>&nbsp;-----------------------------------------------------------------------------------&nbsp;&nbsp;</p>"
   ]
  },
  {
   "cell_type": "markdown",
   "id": "11e0c96f",
   "metadata": {},
   "source": [
    "### Q.3. How are lambda functions typically used in Python? Provide an example use case."
   ]
  },
  {
   "cell_type": "markdown",
   "id": "b749a5c4",
   "metadata": {},
   "source": [
    "<p><strong>Ans:</strong></p>\n",
    "\n",
    "Lambda functions are commonly used in Python in conjunction with higher-order functions like <code>map()</code>, <code>filter()</code>, <code>sorted()</code> and <code>reduce()</code>. These higher-order functions accept other functions as arguments, and lambda functions provide a convenient way to define those functions without explicitly defining a named function.\n",
    "\n",
    "Let's consider an example use case where lambda functions are used with <code>map()</code>. Suppose we have a list of numbers and we want to square each number in the list. Instead of defining a separate named function, we can use a <code>lambda</code> function with <code>map()</code> to achieve the desired result:"
   ]
  },
  {
   "cell_type": "code",
   "execution_count": 3,
   "id": "010d16e3",
   "metadata": {},
   "outputs": [
    {
     "name": "stdout",
     "output_type": "stream",
     "text": [
      "[343, 512, 729, 1000, 1331, 1728, 2197, 2744]\n"
     ]
    }
   ],
   "source": [
    "lst = [7,8,9,10,11,12,13,14]\n",
    "\n",
    "cube_lst = list(map(lambda x : x**3 , lst))\n",
    "\n",
    "print(cube_lst)"
   ]
  },
  {
   "cell_type": "markdown",
   "id": "d0b87565",
   "metadata": {},
   "source": [
    "<p>&nbsp;-----------------------------------------------------------------------------------&nbsp;&nbsp;</p>"
   ]
  },
  {
   "cell_type": "markdown",
   "id": "5ee49c70",
   "metadata": {},
   "source": [
    "### Q.4. What are the advantages and limitations of lambda functions compared to regular functions in Python?"
   ]
  },
  {
   "cell_type": "markdown",
   "id": "db9d73c7",
   "metadata": {},
   "source": [
    "<p><strong>Ans:</strong></p>\n",
    "\n",
    "Advantages of Lambda Functions:\n",
    "\n",
    "<ol>\n",
    "<li>\n",
    "Concise Syntax: Lambda functions allow you to define simple functions in a compact and readable manner. They are particularly useful for short, one-liner functions.</li>\n",
    "<li>\n",
    "Anonymous: Lambda functions are anonymous, meaning they don't require a separate name. This can be beneficial when you need a function for a specific task and don't want to clutter your code with unnecessary function definitions.\n",
    "</li>\n",
    "<li>\n",
    "Easy to Use with Higher-Order Functions: Lambda functions are commonly used with higher-order functions like <code>map()</code>, <code>filter()</code>, and <code>reduce()</code>. They provide a convenient way to define functions on the fly without the need for a named function.\n",
    "</li>\n",
    "<li>\n",
    "Enclosing Scope Access: Lambda functions can access variables from the enclosing scope. This feature is known as lexical scoping and allows for more flexible and expressive functions.\n",
    "</li>\n",
    "</ol>   \n",
    "Limitations of Lambda Functions:\n",
    "<ol>\n",
    "<li>\n",
    "Limited Functionality: Lambda functions are designed for simple and short expressions. They cannot contain multiple statements or complex logic. If you need more complex functionality, it is better to use a regular function.\n",
    "<li>\n",
    "Lack of Documentation: Lambda functions don't have a docstring or explicit name, making them less self-descriptive compared to regular functions. This can make code maintenance and debugging more challenging.\n",
    "</li>\n",
    "<li>\n",
    "Reduced Readability: Although lambda functions can make code more concise, they may sacrifice readability, especially when the expression becomes complex or involves multiple arguments.\n",
    "Limited Error Handling: Lambda functions have limited error handling capabilities. They don't support try-except blocks, making it harder to handle and propagate exceptions.\n",
    "</li>\n",
    "</ol>\n",
    "In summary, lambda functions are a powerful tool for creating short, simple functions on the fly, especially when used in combination with higher-order functions. However, for more complex logic, code readability, and error handling, regular functions are generally preferred. It is important to strike a balance between the conciseness of lambda functions and the readability and maintainability of regular functions based on the specific requirements of your code.\n",
    "\n",
    "\n",
    "\n",
    "\n",
    "\n"
   ]
  },
  {
   "cell_type": "markdown",
   "id": "1e6dbdf2",
   "metadata": {},
   "source": [
    "<p>&nbsp;-----------------------------------------------------------------------------------&nbsp;&nbsp;</p>"
   ]
  },
  {
   "cell_type": "markdown",
   "id": "a0faedf0",
   "metadata": {},
   "source": [
    "### Q.5. Are lambda functions in Python able to access variables defined outside of their own scope? Explain with an example."
   ]
  },
  {
   "cell_type": "markdown",
   "id": "7fcc7188",
   "metadata": {},
   "source": [
    "<p><strong>Ans:</strong></p>\n",
    "\n",
    "In this example, we have an outer function <code>outer_function()</code> that defines a local variable message with the value <code>\"Hello\"</code>. Inside the <code>outer_function()</code>, there is an inner function <code>inner_function()</code>, which defines a local variable name with the value \"Alice\". The inner function also defines a lambda function greeting that uses both the message and name variables from the enclosing scope.\n",
    "\n",
    "When the <code>inner_function()</code> is invoked, it calls the lambda function <code>greeting()</code> and returns the result. The lambda function combines the values of message and name to create the greeting \"Hello, Alice!\".\n",
    "\n",
    "The key point to note is that the lambda function greeting has access to the variables message and name, even though it is defined inside a different scope. This behavior allows lambda functions to capture and use variables from the surrounding scope, making them quite flexible and powerful in certain situations.\n",
    "\n",
    "It's important to remember that lambda functions can only access variables from the enclosing scope if they are defined within that scope. If a lambda function is defined outside of the scope where a variable is defined, it won't have access to that variable."
   ]
  },
  {
   "cell_type": "code",
   "execution_count": 4,
   "id": "ff18df4b",
   "metadata": {},
   "outputs": [
    {
     "name": "stdout",
     "output_type": "stream",
     "text": [
      "Hello, Alice!\n"
     ]
    }
   ],
   "source": [
    "def outer_function():\n",
    "    message = \"Hello\"\n",
    "\n",
    "    def inner_function():\n",
    "        name = \"Alice\"\n",
    "        greeting = lambda: f\"{message}, {name}!\"\n",
    "        return greeting()\n",
    "\n",
    "    return inner_function()\n",
    "\n",
    "print(outer_function())  \n"
   ]
  },
  {
   "cell_type": "markdown",
   "id": "0963ffc9",
   "metadata": {},
   "source": [
    "In this example, we have an outer function <code>outer_function()</code> that defines a local variable message with the value <code>\"Hello\"</code>. Inside the <code>outer_function()</code>, there is a lambda function greeting that references the message variable.\n",
    "\n",
    "When <code>outer_function()</code> is invoked, it calls the lambda function <code>greeting()</code> and returns the result, which is <code>\"Hello!\"</code>. As long as the lambda function is invoked within the scope of the outer function, it can access the message variable.\n",
    "\n",
    "However, if we try to call the lambda function <code>greeting()</code> outside of the <code>outer_function()</code>, as shown in <code>print(greeting())</code>, it will raise a <code>NameError</code>. This is because the lambda function greeting is not defined in the global scope, and it does not have access to the message variable outside of its scope.\n",
    "\n",
    "This example demonstrates that lambda functions in Python can only access variables from the enclosing scope in which they are defined. If a lambda function is defined inside a function and not returned or stored in a variable that is accessible outside of that function, it cannot be accessed or used outside of that scope.\n",
    "\n",
    "\n",
    "\n",
    "\n",
    "\n"
   ]
  },
  {
   "cell_type": "code",
   "execution_count": 5,
   "id": "99de743c",
   "metadata": {},
   "outputs": [
    {
     "name": "stdout",
     "output_type": "stream",
     "text": [
      "Hello!\n"
     ]
    },
    {
     "ename": "NameError",
     "evalue": "name 'greeting' is not defined",
     "output_type": "error",
     "traceback": [
      "\u001b[1;31m---------------------------------------------------------------------------\u001b[0m",
      "\u001b[1;31mNameError\u001b[0m                                 Traceback (most recent call last)",
      "Cell \u001b[1;32mIn[5], line 8\u001b[0m\n\u001b[0;32m      5\u001b[0m     \u001b[38;5;28;01mreturn\u001b[39;00m greeting()\n\u001b[0;32m      7\u001b[0m \u001b[38;5;28mprint\u001b[39m(outer_function())  \u001b[38;5;66;03m# Output: Hello!\u001b[39;00m\n\u001b[1;32m----> 8\u001b[0m \u001b[38;5;28mprint\u001b[39m(\u001b[43mgreeting\u001b[49m())\n",
      "\u001b[1;31mNameError\u001b[0m: name 'greeting' is not defined"
     ]
    }
   ],
   "source": [
    "def outer_function():\n",
    "    message = \"Hello\"\n",
    "    greeting = lambda: f\"{message}!\"  # Lambda function defined inside the outer function\n",
    "\n",
    "    return greeting()\n",
    "\n",
    "print(outer_function())  # Output: Hello!\n",
    "print(greeting())  # Raises NameError: name 'greeting' is not defined\n"
   ]
  },
  {
   "cell_type": "markdown",
   "id": "311ec33e",
   "metadata": {},
   "source": [
    "<p>&nbsp;-----------------------------------------------------------------------------------&nbsp;&nbsp;</p>"
   ]
  },
  {
   "cell_type": "markdown",
   "id": "16d3166d",
   "metadata": {},
   "source": [
    "### Q.6. Write a lambda function to calculate the square of a given number."
   ]
  },
  {
   "cell_type": "markdown",
   "id": "03882208",
   "metadata": {},
   "source": [
    "<p><strong>Ans:</strong></p>"
   ]
  },
  {
   "cell_type": "code",
   "execution_count": 6,
   "id": "8b492d8d",
   "metadata": {},
   "outputs": [
    {
     "name": "stdout",
     "output_type": "stream",
     "text": [
      "25\n"
     ]
    }
   ],
   "source": [
    "sq_no = lambda x: x**2\n",
    "\n",
    "print(sq_no(5))"
   ]
  },
  {
   "cell_type": "markdown",
   "id": "6b2c5200",
   "metadata": {},
   "source": [
    "<p>&nbsp;-----------------------------------------------------------------------------------&nbsp;&nbsp;</p>"
   ]
  },
  {
   "cell_type": "markdown",
   "id": "7caddf1b",
   "metadata": {},
   "source": [
    "### Q.7. Create a lambda function to find the maximum value in a list of integers."
   ]
  },
  {
   "cell_type": "markdown",
   "id": "cd477eca",
   "metadata": {},
   "source": [
    "<p><strong>Ans:</strong></p>"
   ]
  },
  {
   "cell_type": "code",
   "execution_count": 7,
   "id": "e08b0b52",
   "metadata": {},
   "outputs": [
    {
     "name": "stdout",
     "output_type": "stream",
     "text": [
      "7\n"
     ]
    }
   ],
   "source": [
    "lst = [1,7,3,4,6]\n",
    "\n",
    "max_no = max(lst, key = lambda x : x)\n",
    "\n",
    "print(max_no)"
   ]
  },
  {
   "cell_type": "markdown",
   "id": "8bcfa5ae",
   "metadata": {},
   "source": [
    "<p>&nbsp;-----------------------------------------------------------------------------------&nbsp;&nbsp;</p>"
   ]
  },
  {
   "cell_type": "markdown",
   "id": "83c4a776",
   "metadata": {},
   "source": [
    "### Q.8. Implement a lambda function to filter out all the even numbers from a list of integers.\n"
   ]
  },
  {
   "cell_type": "markdown",
   "id": "dfe26216",
   "metadata": {},
   "source": [
    "<p><strong>Ans:</strong></p>"
   ]
  },
  {
   "cell_type": "code",
   "execution_count": 12,
   "id": "0920311e",
   "metadata": {},
   "outputs": [
    {
     "name": "stdout",
     "output_type": "stream",
     "text": [
      "[8, 10, 12, 14]\n"
     ]
    }
   ],
   "source": [
    "lst = [7,8,9,10,11,12,13,14]\n",
    "\n",
    "even_lst = list(filter(lambda x : x%2 == 0,lst))\n",
    "\n",
    "print(even_lst)"
   ]
  },
  {
   "cell_type": "markdown",
   "id": "5c580978",
   "metadata": {},
   "source": [
    "<p>&nbsp;-----------------------------------------------------------------------------------&nbsp;&nbsp;</p>"
   ]
  },
  {
   "cell_type": "markdown",
   "id": "b75abe6d",
   "metadata": {},
   "source": [
    "### Q.9. Write a lambda function to sort a list of strings in ascending order based on the length of each string."
   ]
  },
  {
   "cell_type": "markdown",
   "id": "e3f24d71",
   "metadata": {},
   "source": [
    "<p><strong>Ans:</strong></p>"
   ]
  },
  {
   "cell_type": "code",
   "execution_count": 13,
   "id": "50430851",
   "metadata": {},
   "outputs": [
    {
     "name": "stdout",
     "output_type": "stream",
     "text": [
      "TV\n",
      "PHONE\n",
      "LAPTOP\n"
     ]
    }
   ],
   "source": [
    "gadgets = [\"TV\",\"PHONE\",\"LAPTOP\"]\n",
    "\n",
    "sorted_gadgets = sorted(gadgets, key = lambda x: len(x))\n",
    "\n",
    "for gadget in sorted_gadgets:\n",
    "    print(gadget)"
   ]
  },
  {
   "cell_type": "markdown",
   "id": "e94330e7",
   "metadata": {},
   "source": [
    "<p>&nbsp;-----------------------------------------------------------------------------------&nbsp;&nbsp;</p>"
   ]
  },
  {
   "cell_type": "markdown",
   "id": "8d8fb9cd",
   "metadata": {},
   "source": [
    "### Q.10. Create a lambda function that takes two lists as input and returns a new list containing the common elements between the two lists."
   ]
  },
  {
   "cell_type": "markdown",
   "id": "eddd2cfb",
   "metadata": {},
   "source": [
    "<p><strong>Ans:</strong></p>"
   ]
  },
  {
   "cell_type": "code",
   "execution_count": 19,
   "id": "d741bbf1",
   "metadata": {},
   "outputs": [
    {
     "name": "stdout",
     "output_type": "stream",
     "text": [
      "['apple']\n"
     ]
    }
   ],
   "source": [
    "lst1 = [1,2,3,\"apple\"]\n",
    "\n",
    "lst2 = [\"apple\",\"orange\"]\n",
    "\n",
    "common_elements_lst = list(filter(lambda x : x in lst1, lst2))\n",
    "\n",
    "print(common_elements_lst)"
   ]
  },
  {
   "cell_type": "markdown",
   "id": "7ab9938a",
   "metadata": {},
   "source": [
    "<p>&nbsp;-----------------------------------------------------------------------------------&nbsp;&nbsp;</p>"
   ]
  },
  {
   "cell_type": "markdown",
   "id": "36fe9d55",
   "metadata": {},
   "source": [
    "### Q.11. Write a recursive function to calculate the factorial of a given positive integer."
   ]
  },
  {
   "cell_type": "markdown",
   "id": "14f12dba",
   "metadata": {},
   "source": [
    "<p><strong>Ans:</strong></p>"
   ]
  },
  {
   "cell_type": "code",
   "execution_count": 47,
   "id": "76775927",
   "metadata": {},
   "outputs": [
    {
     "name": "stdout",
     "output_type": "stream",
     "text": [
      "120\n"
     ]
    }
   ],
   "source": [
    "def fac(n):\n",
    "    if n==1:\n",
    "        return 1\n",
    "    else:\n",
    "        factorial = n * fac(n-1)\n",
    "        return factorial\n",
    "    \n",
    "print(fac(5))"
   ]
  },
  {
   "cell_type": "markdown",
   "id": "ba47af22",
   "metadata": {},
   "source": [
    "<p>&nbsp;-----------------------------------------------------------------------------------&nbsp;&nbsp;</p>"
   ]
  },
  {
   "cell_type": "markdown",
   "id": "e767ea80",
   "metadata": {},
   "source": [
    "### Q.12. Implement a recursive function to compute the nth Fibonacci number."
   ]
  },
  {
   "cell_type": "markdown",
   "id": "84fd0897",
   "metadata": {},
   "source": [
    "<p><strong>Ans:</strong></p>"
   ]
  },
  {
   "cell_type": "code",
   "execution_count": 48,
   "id": "a0f16892",
   "metadata": {},
   "outputs": [
    {
     "name": "stdout",
     "output_type": "stream",
     "text": [
      "21\n"
     ]
    }
   ],
   "source": [
    "# 0,1,1,2,3,5,8,13...............\n",
    "\n",
    "def fibonacci(n):\n",
    "    if n <= 0:\n",
    "        return \"Please enter positive number\"\n",
    "    elif n == 1:\n",
    "        return 0\n",
    "    elif n == 2:\n",
    "        return 1\n",
    "    else:\n",
    "        return fibonacci(n-1)+fibonacci(n-2)\n",
    "    \n",
    "print(fibonacci(9))\n"
   ]
  },
  {
   "cell_type": "markdown",
   "id": "136df27b",
   "metadata": {},
   "source": [
    "<p>&nbsp;-----------------------------------------------------------------------------------&nbsp;&nbsp;</p>"
   ]
  },
  {
   "cell_type": "markdown",
   "id": "d5bf9350",
   "metadata": {},
   "source": [
    "### Q.13. Create a recursive function to find the sum of all the elements in a given list."
   ]
  },
  {
   "cell_type": "markdown",
   "id": "5db75032",
   "metadata": {},
   "source": [
    "<p><strong>Ans:</strong></p>"
   ]
  },
  {
   "cell_type": "code",
   "execution_count": 45,
   "id": "13ece6a5",
   "metadata": {},
   "outputs": [
    {
     "name": "stdout",
     "output_type": "stream",
     "text": [
      "The sum of all the integers in the list [1, 2, 3, 4, 5, 6] is 21\n"
     ]
    }
   ],
   "source": [
    "lst1 = [1,2,3,4,5,6]\n",
    "\n",
    "def sum_lst(lst):\n",
    "    if not lst:\n",
    "        return 0\n",
    "    else:\n",
    "        return lst[0]+sum_lst(lst[1:])\n",
    "        \n",
    "print(f\"The sum of all the integers in the list {lst1} is {sum_lst(lst1)}\")"
   ]
  },
  {
   "cell_type": "markdown",
   "id": "38d586f7",
   "metadata": {},
   "source": [
    "<p>&nbsp;-----------------------------------------------------------------------------------&nbsp;&nbsp;</p>"
   ]
  },
  {
   "cell_type": "markdown",
   "id": "815bb4dd",
   "metadata": {},
   "source": [
    "### Q.14. Write a recursive function to determine whether a given string is a palindrome."
   ]
  },
  {
   "cell_type": "markdown",
   "id": "582fa5ca",
   "metadata": {},
   "source": [
    "<p><strong>Ans:</strong></p>"
   ]
  },
  {
   "cell_type": "code",
   "execution_count": 49,
   "id": "965f4bb3",
   "metadata": {},
   "outputs": [
    {
     "name": "stdout",
     "output_type": "stream",
     "text": [
      "The string is a palindrome\n"
     ]
    }
   ],
   "source": [
    "my_str = \"deified\"\n",
    "\n",
    "def is_palindrome(string):\n",
    "    \n",
    "    if len(string) <= 1:\n",
    "        return \"The string is a palindrome\"\n",
    "    \n",
    "    elif string[0] != string[-1]:\n",
    "        return \"The string is not a palindrome\"\n",
    "    \n",
    "    else:\n",
    "        return is_palindrome(string[1:-1])\n",
    "    \n",
    "print(is_palindrome(my_str))"
   ]
  },
  {
   "cell_type": "markdown",
   "id": "a5a2b1f2",
   "metadata": {},
   "source": [
    "<p>&nbsp;-----------------------------------------------------------------------------------&nbsp;&nbsp;</p>"
   ]
  },
  {
   "cell_type": "markdown",
   "id": "acc4bf98",
   "metadata": {},
   "source": [
    "### Q.15. Implement a recursive function to find the greatest common divisor (GCD) of two positive integers."
   ]
  },
  {
   "cell_type": "markdown",
   "id": "c2d92f69",
   "metadata": {},
   "source": [
    "<p><strong>Ans:</strong></p>"
   ]
  },
  {
   "cell_type": "code",
   "execution_count": 50,
   "id": "bf778c7f",
   "metadata": {},
   "outputs": [
    {
     "name": "stdout",
     "output_type": "stream",
     "text": [
      "4\n"
     ]
    }
   ],
   "source": [
    "def gcd_cal(a,b):\n",
    "    \n",
    "    if a%b == 0:\n",
    "        return b\n",
    "    else:\n",
    "        return gcd_cal(b,a%b)\n",
    "    \n",
    "print(gcd_cal(12,16))"
   ]
  },
  {
   "cell_type": "markdown",
   "id": "9274c6f1",
   "metadata": {},
   "source": [
    "<p>&nbsp;-----------------------------------------------------------------------------------&nbsp;&nbsp;</p>"
   ]
  }
 ],
 "metadata": {
  "kernelspec": {
   "display_name": "Python 3 (ipykernel)",
   "language": "python",
   "name": "python3"
  },
  "language_info": {
   "codemirror_mode": {
    "name": "ipython",
    "version": 3
   },
   "file_extension": ".py",
   "mimetype": "text/x-python",
   "name": "python",
   "nbconvert_exporter": "python",
   "pygments_lexer": "ipython3",
   "version": "3.10.9"
  }
 },
 "nbformat": 4,
 "nbformat_minor": 5
}
