{
 "cells": [
  {
   "cell_type": "markdown",
   "id": "4d44f22a",
   "metadata": {},
   "source": [
    "# 17 June\n",
    "\n",
    "# Python Basic - 5"
   ]
  },
  {
   "cell_type": "markdown",
   "id": "46e5c5ae",
   "metadata": {},
   "source": [
    "### Q.1. What is the role of try and exception block?"
   ]
  },
  {
   "cell_type": "markdown",
   "id": "4584aa63",
   "metadata": {},
   "source": [
    "<p><strong>Ans:</strong></p>\n",
    "\n",
    "<code>try</code> block: The code within the try block contains the statements that may potentially raise an exception. It allows us to specify the section of code that you want to monitor for exceptions.\n",
    "\n",
    "<code>except</code> block: If an exception occurs within the try block, the corresponding except block(s) are executed. The except block allows you to define the actions or code that should be executed when a specific exception is raised. You can have multiple except blocks to handle different types of exceptions."
   ]
  },
  {
   "cell_type": "markdown",
   "id": "6f20a36a",
   "metadata": {},
   "source": [
    "<p>&nbsp;-----------------------------------------------------------------------------------&nbsp;&nbsp;</p>"
   ]
  },
  {
   "cell_type": "markdown",
   "id": "3cdae529",
   "metadata": {},
   "source": [
    "### Q.2. What is the syntax for a basic try-except block?"
   ]
  },
  {
   "cell_type": "markdown",
   "id": "df3c527e",
   "metadata": {},
   "source": [
    "<p><strong>Ans:</strong></p>\n",
    "\n",
    "The general syntax of a \"try-except\" block is as follows:"
   ]
  },
  {
   "cell_type": "code",
   "execution_count": null,
   "id": "51af07b0",
   "metadata": {},
   "outputs": [],
   "source": [
    "try:\n",
    "    # Code that may raise an exception\n",
    "    # ...\n",
    "except ExceptionType1:\n",
    "    # Code to handle ExceptionType1\n",
    "    # ...\n",
    "except ExceptionType2:\n",
    "    # Code to handle ExceptionType2\n",
    "    # ...\n",
    "else:\n",
    "    # Code that executes if no exception is raised\n",
    "    # ...\n",
    "finally:\n",
    "    # Code that always executes, regardless of exceptions\n",
    "    # ...\n"
   ]
  },
  {
   "cell_type": "markdown",
   "id": "6312c05c",
   "metadata": {},
   "source": [
    "<p>&nbsp;-----------------------------------------------------------------------------------&nbsp;&nbsp;</p>"
   ]
  },
  {
   "cell_type": "markdown",
   "id": "11e0c96f",
   "metadata": {},
   "source": [
    "### Q.3. What happens if an exception occurs inside a try block and there is no matching except block?"
   ]
  },
  {
   "cell_type": "markdown",
   "id": "0e5e0c84",
   "metadata": {},
   "source": [
    "<p><strong>Ans:</strong></p>\n",
    "\n",
    "If an exception occurs inside a \"<code>try</code>\" block and there is no matching \"<code>except</code>\" block to handle that specific exception type, the exception will propagate up the call stack until it is caught by an appropriate \"except\" block at a higher level in the program or until it reaches the top level of the program.\n",
    "\n",
    "We can see it in the following example:"
   ]
  },
  {
   "cell_type": "code",
   "execution_count": 1,
   "id": "397faa61",
   "metadata": {},
   "outputs": [
    {
     "ename": "ZeroDivisionError",
     "evalue": "division by zero",
     "output_type": "error",
     "traceback": [
      "\u001b[1;31m---------------------------------------------------------------------------\u001b[0m",
      "\u001b[1;31mZeroDivisionError\u001b[0m                         Traceback (most recent call last)",
      "Cell \u001b[1;32mIn[1], line 5\u001b[0m\n\u001b[0;32m      2\u001b[0m     a \u001b[38;5;241m=\u001b[39m \u001b[38;5;241m3\u001b[39m\n\u001b[0;32m      3\u001b[0m     b \u001b[38;5;241m=\u001b[39m \u001b[38;5;241m0\u001b[39m\n\u001b[1;32m----> 5\u001b[0m     result \u001b[38;5;241m=\u001b[39m \u001b[43ma\u001b[49m\u001b[38;5;241;43m/\u001b[39;49m\u001b[43mb\u001b[49m\n\u001b[0;32m      7\u001b[0m \u001b[38;5;28;01mexcept\u001b[39;00m \u001b[38;5;167;01mValueError\u001b[39;00m:\n\u001b[0;32m      9\u001b[0m     \u001b[38;5;28mprint\u001b[39m(\u001b[38;5;124m\"\u001b[39m\u001b[38;5;124mWrong Value Entered!\u001b[39m\u001b[38;5;124m\"\u001b[39m)\n",
      "\u001b[1;31mZeroDivisionError\u001b[0m: division by zero"
     ]
    }
   ],
   "source": [
    "try:\n",
    "    a = 3\n",
    "    b = 0\n",
    "    \n",
    "    result = a/b\n",
    "    \n",
    "except ValueError:\n",
    "    \n",
    "    print(\"Wrong Value Entered!\")"
   ]
  },
  {
   "cell_type": "markdown",
   "id": "d0b87565",
   "metadata": {},
   "source": [
    "<p>&nbsp;-----------------------------------------------------------------------------------&nbsp;&nbsp;</p>"
   ]
  },
  {
   "cell_type": "markdown",
   "id": "5ee49c70",
   "metadata": {},
   "source": [
    "### Q.4. What is the difference between using a bare except block and specifying a specific exception type?"
   ]
  },
  {
   "cell_type": "markdown",
   "id": "7141af5a",
   "metadata": {},
   "source": [
    "<p><strong>Ans:</strong></p>\n",
    "\n",
    "If we specify the specific error type, then that exception block will run if the mentioned exception occurs. On the otherhand, if we don't specify, then the exception block will run if any exception occurs. \n",
    "\n",
    "We can see it in the following example:"
   ]
  },
  {
   "cell_type": "code",
   "execution_count": 2,
   "id": "309b7fd1",
   "metadata": {},
   "outputs": [
    {
     "name": "stdout",
     "output_type": "stream",
     "text": [
      "Cannot divide by Zero!\n"
     ]
    }
   ],
   "source": [
    "# Example\n",
    "\n",
    "# Specific Exception Type is Mentioned\n",
    "\n",
    "try:\n",
    "    a = 3\n",
    "    b = 0\n",
    "    \n",
    "    result = a/b\n",
    "    \n",
    "except ZeroDivisionError:\n",
    "    \n",
    "    print(\"Cannot divide by Zero!\")\n",
    "    "
   ]
  },
  {
   "cell_type": "code",
   "execution_count": 3,
   "id": "7f5b8343",
   "metadata": {},
   "outputs": [
    {
     "name": "stdout",
     "output_type": "stream",
     "text": [
      "We faced an exception!\n"
     ]
    }
   ],
   "source": [
    "# Example\n",
    "\n",
    "# No Specific Exception Type is Mentioned\n",
    "\n",
    "try:\n",
    "    a = 3\n",
    "    b = \"q\"\n",
    "    \n",
    "    result = a/b\n",
    "    \n",
    "except:\n",
    "    \n",
    "    print(\"We faced an exception!\")\n",
    "    "
   ]
  },
  {
   "cell_type": "markdown",
   "id": "1e6dbdf2",
   "metadata": {},
   "source": [
    "<p>&nbsp;-----------------------------------------------------------------------------------&nbsp;&nbsp;</p>"
   ]
  },
  {
   "cell_type": "markdown",
   "id": "a0faedf0",
   "metadata": {},
   "source": [
    "### Q.5. Can you have nested try-except blocks in Python? If yes, then give an example."
   ]
  },
  {
   "cell_type": "markdown",
   "id": "128cc895",
   "metadata": {},
   "source": [
    "<p><strong>Ans:</strong></p>\n",
    "\n",
    "We can see it in the following example:"
   ]
  },
  {
   "cell_type": "code",
   "execution_count": 3,
   "id": "c7a74f7c",
   "metadata": {},
   "outputs": [
    {
     "name": "stdout",
     "output_type": "stream",
     "text": [
      "Enter 1st No: 6\n",
      "Enter 2nd No: o\n",
      "Caught exception in the outer except block\n"
     ]
    }
   ],
   "source": [
    "try:\n",
    "    a = float(input(\"Enter 1st No: \"))\n",
    "    b = float(input(\"Enter 2nd No: \"))\n",
    "    \n",
    "    try:\n",
    "        c = a/b\n",
    "        \n",
    "    except ZeroDivisionError:\n",
    "        print(\"Caught ZeroDivisionError in the inner except block\")\n",
    "\n",
    "except:\n",
    "    print(\"Caught exception in the outer except block\")\n",
    "\n",
    "\n",
    "        \n",
    "        "
   ]
  },
  {
   "cell_type": "markdown",
   "id": "311ec33e",
   "metadata": {},
   "source": [
    "<p>&nbsp;-----------------------------------------------------------------------------------&nbsp;&nbsp;</p>"
   ]
  },
  {
   "cell_type": "markdown",
   "id": "16d3166d",
   "metadata": {},
   "source": [
    "### Q.6. Can we use multiple exception blocks, if yes then give an example."
   ]
  },
  {
   "cell_type": "markdown",
   "id": "350073aa",
   "metadata": {},
   "source": [
    "<p><strong>Ans:</strong></p>\n",
    "\n",
    "We can see it in the following example:"
   ]
  },
  {
   "cell_type": "code",
   "execution_count": 4,
   "id": "dfd1f79b",
   "metadata": {},
   "outputs": [
    {
     "name": "stdout",
     "output_type": "stream",
     "text": [
      "Enter 1st No: 3\n",
      "Enter 2nd No: 0\n",
      "Cannot divide by Zero!\n"
     ]
    }
   ],
   "source": [
    "try:\n",
    "    a = float(input(\"Enter 1st No: \"))\n",
    "    b = float(input(\"Enter 2nd No: \"))\n",
    "    \n",
    "    result = a/b\n",
    "    \n",
    "except ZeroDivisionError:\n",
    "    \n",
    "    print(\"Cannot divide by Zero!\")\n",
    "    \n",
    "except ValueError:\n",
    "    \n",
    "    print(\"Please enter proper value\")"
   ]
  },
  {
   "cell_type": "markdown",
   "id": "6b2c5200",
   "metadata": {},
   "source": [
    "<p>&nbsp;-----------------------------------------------------------------------------------&nbsp;&nbsp;</p>"
   ]
  },
  {
   "cell_type": "markdown",
   "id": "7caddf1b",
   "metadata": {},
   "source": [
    "### Q.7. Write the reason due to which following errors are raised:\n",
    "\n",
    "### a. EOFError\n",
    "### b. FloatingPointError\n",
    "### c. IndexError\n",
    "### d. MemoryError\n",
    "### e. OverflowError\n",
    "### f. TabError\n",
    "### g. ValueError\n"
   ]
  },
  {
   "cell_type": "markdown",
   "id": "eb5ec0bf",
   "metadata": {},
   "source": [
    "<p><strong>Ans:</strong></p>\n",
    "\n",
    "<ol>\n",
    "<li><strong><code>EOFError</code>:</strong> Raised when the <code>input()</code> function hits an end-of-file condition (EOF).</li>\n",
    "\n",
    "<li><strong><code>FloatingPointError</code>:</strong> Raised when a floating point operation fails.</li>\n",
    "    \n",
    "<li><strong><code>IndexError</code>:</strong> Raised when a sequence subscript (index) is out of range.</li>\n",
    "\n",
    "<li><strong><code>MemoryError</code>:</strong> Raised when an operation runs out of memory.</li>\n",
    "    \n",
    "<li><strong><code>OverflowError</code>:</strong> Raised when the result of an arithmetic operation is too large to be expressed.</li>\n",
    "    \n",
    "<li><strong><code>TabError</code>:</strong> Raised when indentation contains mixed tabs and spaces.</li>\n",
    "    \n",
    "<li><strong><code>ValueError</code>:</strong> Raised when a built-in operation or function receives an argument that has the right type but an inappropriate value.</li>\n",
    "    \n",
    "\n",
    "</ol>"
   ]
  },
  {
   "cell_type": "markdown",
   "id": "8bcfa5ae",
   "metadata": {},
   "source": [
    "<p>&nbsp;-----------------------------------------------------------------------------------&nbsp;&nbsp;</p>"
   ]
  },
  {
   "cell_type": "markdown",
   "id": "83c4a776",
   "metadata": {},
   "source": [
    "### Q.8. Write code for the following given scenario and add try-exception block to it.\n",
    "\n",
    "### a. Program to divide two numbers\n",
    "### b. Program to convert a string to an integer\n",
    "### c. Program to access an element in a list\n",
    "### d. Program to handle a specific exception\n",
    "### e. Program to handle any exception"
   ]
  },
  {
   "cell_type": "markdown",
   "id": "32b3e92d",
   "metadata": {},
   "source": [
    "<p><strong>Ans:</strong></p>\n",
    "\n",
    "<p><strong>a. Program to divide two numbers:</strong></p>"
   ]
  },
  {
   "cell_type": "code",
   "execution_count": 5,
   "id": "82936db7",
   "metadata": {},
   "outputs": [
    {
     "name": "stdout",
     "output_type": "stream",
     "text": [
      "Enter 1st No: 8\n",
      "Enter 2nd No: 0\n",
      "Cannot divide by Zero!\n"
     ]
    }
   ],
   "source": [
    "try:\n",
    "    c = float(input(\"Enter 1st No: \"))\n",
    "    d = float(input(\"Enter 2nd No: \"))\n",
    "    \n",
    "    result = c/d\n",
    "    \n",
    "except ZeroDivisionError:\n",
    "    \n",
    "    print(\"Cannot divide by Zero!\")"
   ]
  },
  {
   "cell_type": "markdown",
   "id": "699c50fe",
   "metadata": {},
   "source": [
    "\n",
    "<p><strong>b. Program to convert a string to an integer:</strong></p>"
   ]
  },
  {
   "cell_type": "code",
   "execution_count": 6,
   "id": "6e858f69",
   "metadata": {},
   "outputs": [
    {
     "name": "stdout",
     "output_type": "stream",
     "text": [
      "Enter a number: t\n",
      "Encountered ValueError.\n"
     ]
    }
   ],
   "source": [
    "try:\n",
    "    user_input = input(\"Enter a number: \")\n",
    "    number = int(user_input)\n",
    "    print(\"You entered:\", number)\n",
    "    \n",
    "except ValueError:\n",
    "    print(\"Encountered ValueError.\")\n"
   ]
  },
  {
   "cell_type": "markdown",
   "id": "4cc27b10",
   "metadata": {},
   "source": [
    "\n",
    "<p><strong>c. Program to access an element in a list:</strong></p>"
   ]
  },
  {
   "cell_type": "code",
   "execution_count": 7,
   "id": "7155b1b7",
   "metadata": {},
   "outputs": [
    {
     "name": "stdout",
     "output_type": "stream",
     "text": [
      "Index is not found!\n"
     ]
    }
   ],
   "source": [
    "try:\n",
    "    lst = [1,3,5,7]\n",
    "    a = lst[7]\n",
    "    print(a)\n",
    "    \n",
    "except IndexError:\n",
    "    \n",
    "    print(\"Index is not found!\")"
   ]
  },
  {
   "cell_type": "markdown",
   "id": "c3c57b34",
   "metadata": {},
   "source": [
    "\n",
    "<p><strong>Program to handle a specific exception:</strong></p>"
   ]
  },
  {
   "cell_type": "code",
   "execution_count": 8,
   "id": "54d164cb",
   "metadata": {},
   "outputs": [
    {
     "name": "stdout",
     "output_type": "stream",
     "text": [
      "Library does not exist!\n"
     ]
    }
   ],
   "source": [
    "# Program to handle a specific exception: ImportError\n",
    "\n",
    "try:\n",
    "    \n",
    "    import library23\n",
    "    \n",
    "except ImportError:\n",
    "    \n",
    "    print(\"Library does not exist!\")"
   ]
  },
  {
   "cell_type": "markdown",
   "id": "bc717f20",
   "metadata": {},
   "source": [
    "\n",
    "<p><strong>e. Program to handle any exception:</strong></p>"
   ]
  },
  {
   "cell_type": "code",
   "execution_count": 9,
   "id": "fd174485",
   "metadata": {},
   "outputs": [
    {
     "name": "stdout",
     "output_type": "stream",
     "text": [
      "Enter the first number: y\n",
      "An error occurred: invalid literal for int() with base 10: 'y'\n"
     ]
    }
   ],
   "source": [
    "try:\n",
    "    \n",
    "    a = int(input(\"Enter the first number: \"))\n",
    "    b = int(input(\"Enter the second number: \"))\n",
    "    result = a / b\n",
    "    print(\"The result is:\", result)\n",
    "    \n",
    "except Exception as e:\n",
    "    \n",
    "    print(\"An error occurred:\", str(e))\n"
   ]
  },
  {
   "cell_type": "markdown",
   "id": "5c580978",
   "metadata": {},
   "source": [
    "<p>&nbsp;-----------------------------------------------------------------------------------&nbsp;&nbsp;</p>"
   ]
  }
 ],
 "metadata": {
  "kernelspec": {
   "display_name": "Python 3 (ipykernel)",
   "language": "python",
   "name": "python3"
  },
  "language_info": {
   "codemirror_mode": {
    "name": "ipython",
    "version": 3
   },
   "file_extension": ".py",
   "mimetype": "text/x-python",
   "name": "python",
   "nbconvert_exporter": "python",
   "pygments_lexer": "ipython3",
   "version": "3.10.9"
  }
 },
 "nbformat": 4,
 "nbformat_minor": 5
}
