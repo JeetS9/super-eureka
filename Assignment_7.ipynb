{
 "cells": [
  {
   "cell_type": "markdown",
   "id": "86c1de44",
   "metadata": {},
   "source": [
    "### 21 May\n",
    "\n",
    "# Python Basic - 2"
   ]
  },
  {
   "cell_type": "markdown",
   "id": "c50bc70e",
   "metadata": {},
   "source": [
    "### Q.1. Create two int type variables, apply addition, subtraction, division and multiplications and store the results in variables. Then print the data in the following format by calling the variables:\n",
    "\n",
    "### First variable is __ & second variable is __.\n",
    "### Addition: __ + __ = __\n",
    "### Subtraction: __ - __ = __\n",
    "### Multiplication: __ * __ = __\n",
    "### Division: __ / __ = __\n"
   ]
  },
  {
   "cell_type": "markdown",
   "id": "f9fc3a31",
   "metadata": {},
   "source": [
    "<p><strong>Ans:</strong></p>\n",
    "\n",
    "Lets take two variables <code>a</code> and <code>b</code> which take values <code>10</code> and <code>5</code> respectively.\n",
    "\n"
   ]
  },
  {
   "cell_type": "code",
   "execution_count": 1,
   "id": "05ae106a",
   "metadata": {},
   "outputs": [
    {
     "name": "stdout",
     "output_type": "stream",
     "text": [
      "First variable is a & second variable is b\n",
      "Addition: a + b = 15\n",
      "Subtraction: a - b = 5\n",
      "Multiplication: a * b = 50\n",
      "Division: a / b = 2.0\n"
     ]
    }
   ],
   "source": [
    "a = 10\n",
    "\n",
    "b = 5\n",
    "\n",
    "addi = a + b\n",
    "subt = a - b\n",
    "mult = a * b\n",
    "divi = a / b\n",
    "\n",
    "print(\"First variable is a & second variable is b\")\n",
    "print(\"Addition: a + b =\",addi)\n",
    "print(\"Subtraction: a - b =\",subt)\n",
    "print(\"Multiplication: a * b =\",mult)\n",
    "print(\"Division: a / b =\",divi)"
   ]
  },
  {
   "cell_type": "markdown",
   "id": "514f1f16",
   "metadata": {},
   "source": [
    "<p>&nbsp;-----------------------------------------------------------------------------------&nbsp;&nbsp;</p>"
   ]
  },
  {
   "cell_type": "markdown",
   "id": "85789d38",
   "metadata": {},
   "source": [
    "### Q.2. What is the difference between the following operators:\n",
    "### (i) ‘/’ & ‘//’\n",
    "### (ii) ‘**’ & ‘^’"
   ]
  },
  {
   "cell_type": "markdown",
   "id": "40d0f4c6",
   "metadata": {},
   "source": [
    " <p><strong>Ans:</strong></p>\n",
    "<ol>\n",
    "<li>\n",
    "<p> <code>/</code> operator is used to do normal division.</p>\n",
    "</li>\n",
    "<li>\n",
    "<p> <code>//</code> operator is used for floor division.</p>\n",
    "</li>\n",
    "</ol>"
   ]
  },
  {
   "cell_type": "code",
   "execution_count": 2,
   "id": "648ac09d",
   "metadata": {},
   "outputs": [
    {
     "name": "stdout",
     "output_type": "stream",
     "text": [
      "3.3333333333333335\n",
      "3\n"
     ]
    }
   ],
   "source": [
    "# Example\n",
    "\n",
    "a = 10\n",
    "b = 3\n",
    "\n",
    "print(a/b)\n",
    "print(a//b)"
   ]
  },
  {
   "cell_type": "markdown",
   "id": "10ab414d",
   "metadata": {},
   "source": [
    "\n",
    "<ol>\n",
    "<li>\n",
    "<p> <code>**</code> operator is used as exponential operator.</p>\n",
    "</li>\n",
    "<li>\n",
    "<p> <code>^</code> operator is used for comparing each bit of the first operand with 2nd. If either bit are 1 (but not both), then the corresponding bit is set to 1, otherwise 0.This is called <strong>XOR</strong>.</p>\n",
    "</li>\n",
    "</ol>"
   ]
  },
  {
   "cell_type": "code",
   "execution_count": 3,
   "id": "d73b9d89",
   "metadata": {},
   "outputs": [
    {
     "name": "stdout",
     "output_type": "stream",
     "text": [
      "16\n",
      "6\n"
     ]
    }
   ],
   "source": [
    "# Example\n",
    "\n",
    "a = 4 # in binary, 4 is equal to 100 \n",
    "b = 2 # in binary, 4 is equal to 010\n",
    "\n",
    "print(a**b)  # output = 4 to the power 2 = 4*4 = 16\n",
    "print(a^b) # output = in binary 110 = 6"
   ]
  },
  {
   "cell_type": "markdown",
   "id": "401f733a",
   "metadata": {},
   "source": [
    "<p>&nbsp;-----------------------------------------------------------------------------------&nbsp;&nbsp;</p>"
   ]
  },
  {
   "cell_type": "markdown",
   "id": "83ff10c7",
   "metadata": {},
   "source": [
    "### Q.3. List the logical operators."
   ]
  },
  {
   "cell_type": "markdown",
   "id": "6a0b4436",
   "metadata": {},
   "source": [
    "<p><strong>Ans:</strong></p>\n",
    "<ol>\n",
    "<li>\n",
    "<p>In Python, the logical operators are used to combine or modify logical values (<code>True</code> or <code>False</code>)</p>\n",
    "</li>\n",
    "<li>\n",
    "<p>There are two logical operators; <code>True</code> and <code>False</code>.</p>\n",
    "</li>\n",
    "\n"
   ]
  },
  {
   "cell_type": "markdown",
   "id": "03adfde9",
   "metadata": {},
   "source": [
    "<p>&nbsp;-----------------------------------------------------------------------------------&nbsp;&nbsp;</p>"
   ]
  },
  {
   "cell_type": "markdown",
   "id": "114a3bb9",
   "metadata": {},
   "source": [
    "### Q.4. Explain right shift operator and left shift operator with examples."
   ]
  },
  {
   "cell_type": "markdown",
   "id": "121c4d81",
   "metadata": {},
   "source": [
    "<p><strong>Ans:</strong></p>\n",
    "\n",
    "<ol>\n",
    "<li>\n",
    "<p><strong>Left Shift</strong> (<code><<</code>):\n",
    "The left shift operator shifts the bits of a number to the left by a specified number of positions.\n",
    "</li>   \n",
    "<li>\n",
    "<p><strong>Right Shift</strong> (<code>>></code>):\n",
    "The right shift operator shifts the bits of a number to the right by a specified number of positions.\n",
    "</li> \n",
    " \n"
   ]
  },
  {
   "cell_type": "code",
   "execution_count": 4,
   "id": "3dd804f7",
   "metadata": {},
   "outputs": [
    {
     "name": "stdout",
     "output_type": "stream",
     "text": [
      "0b1011\n",
      "88\n",
      "0b10100\n",
      "2\n"
     ]
    }
   ],
   "source": [
    "# Example\n",
    "\n",
    "a = 11        \n",
    "print(bin(a)) # 11 in binary = 1011\n",
    "\n",
    "c = a << 3    # shifting 1011 by 3 bits = 1011000 = 88\n",
    "print(c)\n",
    "\n",
    "b = 20\n",
    "print(bin(b)) # 20 in binary = 10100 \n",
    "\n",
    "d = b >> 3    # shifting 10100 by 3 bits = 00010 = 2\n",
    "print(d)\n"
   ]
  },
  {
   "cell_type": "markdown",
   "id": "5a95f6a0",
   "metadata": {},
   "source": [
    "<p>&nbsp;-----------------------------------------------------------------------------------&nbsp;&nbsp;</p>"
   ]
  },
  {
   "cell_type": "markdown",
   "id": "e7c500b1",
   "metadata": {},
   "source": [
    "### Q.5 Create a list containing int type data of length 15. Then write a code to check if 10 is present in the list or not."
   ]
  },
  {
   "cell_type": "markdown",
   "id": "da3f0d41",
   "metadata": {},
   "source": [
    "<p><strong>Ans:</strong></p>\n",
    "\n",
    "It can be done in multiple ways. I am showing in two ways.\n"
   ]
  },
  {
   "cell_type": "code",
   "execution_count": 5,
   "id": "afb9c6b6",
   "metadata": {},
   "outputs": [
    {
     "name": "stdout",
     "output_type": "stream",
     "text": [
      "Lenth of my_list is, 15\n",
      "10 is present in my_list\n"
     ]
    }
   ],
   "source": [
    "# way 1\n",
    "\n",
    "my_list = [1,2,3,4,5,6,7,8,9,10,11,12,13,14,15]\n",
    "\n",
    "print(f'Lenth of my_list is, {len(my_list)}')\n",
    "\n",
    "if 10 in my_list:\n",
    "    print(\"10 is present in my_list\")\n",
    "else:\n",
    "    print(\"10 is not present in my_list\")"
   ]
  },
  {
   "cell_type": "code",
   "execution_count": 6,
   "id": "01b2971c",
   "metadata": {},
   "outputs": [
    {
     "name": "stdout",
     "output_type": "stream",
     "text": [
      "Lenth of my_list is, 15\n",
      "True\n"
     ]
    }
   ],
   "source": [
    "# way 2\n",
    "\n",
    "my_list = [1,2,3,4,5,6,7,8,9,10,11,12,13,14,15]\n",
    "\n",
    "print(f'Lenth of my_list is, {len(my_list)}')\n",
    "\n",
    "print(10 in my_list)"
   ]
  },
  {
   "cell_type": "markdown",
   "id": "00e9ce98",
   "metadata": {},
   "source": [
    "<p>&nbsp;-----------------------------------------------------------------------------------&nbsp;&nbsp;</p>"
   ]
  }
 ],
 "metadata": {
  "kernelspec": {
   "display_name": "Python 3 (ipykernel)",
   "language": "python",
   "name": "python3"
  },
  "language_info": {
   "codemirror_mode": {
    "name": "ipython",
    "version": 3
   },
   "file_extension": ".py",
   "mimetype": "text/x-python",
   "name": "python",
   "nbconvert_exporter": "python",
   "pygments_lexer": "ipython3",
   "version": "3.10.9"
  }
 },
 "nbformat": 4,
 "nbformat_minor": 5
}
