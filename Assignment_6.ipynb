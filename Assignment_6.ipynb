{
 "cells": [
  {
   "cell_type": "markdown",
   "id": "86c1de44",
   "metadata": {},
   "source": [
    "### 20 May\n",
    "\n",
    "# Python Basic - 1"
   ]
  },
  {
   "cell_type": "markdown",
   "id": "c50bc70e",
   "metadata": {},
   "source": [
    "### Q.1. What are keywords in python? Using the keyword library, print all the python keywords.\n"
   ]
  },
  {
   "cell_type": "markdown",
   "id": "f9fc3a31",
   "metadata": {},
   "source": [
    "<p><strong>Ans:</strong></p>\n",
    "In python, keywords are reserved words that cannot be used as ordinary identifiers. Keywords are used in defining the syntax and stucture of the python language. Keywords are immutable and case sensitive.\n",
    "\n"
   ]
  },
  {
   "cell_type": "code",
   "execution_count": 1,
   "id": "05ae106a",
   "metadata": {},
   "outputs": [
    {
     "name": "stdout",
     "output_type": "stream",
     "text": [
      "['False', 'None', 'True', 'and', 'as', 'assert', 'async', 'await', 'break', 'class', 'continue', 'def', 'del', 'elif', 'else', 'except', 'finally', 'for', 'from', 'global', 'if', 'import', 'in', 'is', 'lambda', 'nonlocal', 'not', 'or', 'pass', 'raise', 'return', 'try', 'while', 'with', 'yield']\n"
     ]
    }
   ],
   "source": [
    "# loading package\n",
    "import keyword\n",
    "\n",
    "# displaying all keywords\n",
    "print(keyword.kwlist)"
   ]
  },
  {
   "cell_type": "markdown",
   "id": "514f1f16",
   "metadata": {},
   "source": [
    "<p>&nbsp;-----------------------------------------------------------------------------------&nbsp;&nbsp;</p>"
   ]
  },
  {
   "cell_type": "markdown",
   "id": "85789d38",
   "metadata": {},
   "source": [
    "### Q.2. What are the rules to create variables in python?"
   ]
  },
  {
   "cell_type": "markdown",
   "id": "40d0f4c6",
   "metadata": {},
   "source": [
    " <p><strong>Ans:</strong></p>\n",
    "<ol>\n",
    "<li>\n",
    "<p> Variable name must start with a letter or underscore, but not with a digit.</p>\n",
    "</li>\n",
    "<li>\n",
    "<p> Variable name cannot have special characters (like <code>@</code>, <code>#</code>, <code>%</code>, <code>space</code>)</p>\n",
    "</li>\n",
    "<li>\n",
    "<p> Python keywords can not be used as Variable name.</p>\n",
    "</li>\n",
    "<li>\n",
    "<p> Variable name can be a combination of letters in lowercase (a to z) or uppercase (A to Z) or digits (0 to 9) or an underscore (<code>_</code>).</p>\n",
    "</li>\n",
    "<li>\n",
    "<p> Python is case sensitive. So \"<code>A</code>\" and \"<code>a</code>\" will be treated as different variable.</p>\n",
    "</li>\n",
    "</ol>"
   ]
  },
  {
   "cell_type": "markdown",
   "id": "401f733a",
   "metadata": {},
   "source": [
    "<p>&nbsp;-----------------------------------------------------------------------------------&nbsp;&nbsp;</p>"
   ]
  },
  {
   "cell_type": "markdown",
   "id": "83ff10c7",
   "metadata": {},
   "source": [
    "### Q.3. What are the standards and conventions followed for the nomenclature of variables in python to improve code readability and maintainability?"
   ]
  },
  {
   "cell_type": "markdown",
   "id": "6a0b4436",
   "metadata": {},
   "source": [
    "<p><strong>Ans:</strong></p>\n",
    "<ol>\n",
    "<li>\n",
    "<p>Python does not put any restriction on the length of the identifier. However, it's recommended to keep it within a reasonable size, to maintain readability and simplicity in the code.</p>\n",
    "</li>\n",
    "<li>\n",
    "<p>One should use proper variable names.For example, if you are writting a code which returns the area of a rectangle, then you should name the variable as <code>lenth</code> and <code>width</code> not <code>x</code> and <code>y</code> .</p>\n",
    "</li>\n",
    "<li>\n",
    "<p>One should write comments to explain what the code is doing or leave notes for developers who will be reading or maintaining the code.</p>\n",
    "</li>\n"
   ]
  },
  {
   "cell_type": "markdown",
   "id": "03adfde9",
   "metadata": {},
   "source": [
    "<p>&nbsp;-----------------------------------------------------------------------------------&nbsp;&nbsp;</p>"
   ]
  },
  {
   "cell_type": "markdown",
   "id": "114a3bb9",
   "metadata": {},
   "source": [
    "### Q.4. What will happen if a keyword is used as a variable name?"
   ]
  },
  {
   "cell_type": "markdown",
   "id": "121c4d81",
   "metadata": {},
   "source": [
    "<p><strong>Ans:</strong></p>\n",
    "\n",
    "\n",
    "<p>It will through an error, we can see it from the following example.</p>\n"
   ]
  },
  {
   "cell_type": "code",
   "execution_count": 2,
   "id": "3dd804f7",
   "metadata": {},
   "outputs": [
    {
     "ename": "SyntaxError",
     "evalue": "cannot assign to False (349219322.py, line 1)",
     "output_type": "error",
     "traceback": [
      "\u001b[1;36m  Cell \u001b[1;32mIn[2], line 1\u001b[1;36m\u001b[0m\n\u001b[1;33m    False = 5\u001b[0m\n\u001b[1;37m    ^\u001b[0m\n\u001b[1;31mSyntaxError\u001b[0m\u001b[1;31m:\u001b[0m cannot assign to False\n"
     ]
    }
   ],
   "source": [
    "False = 5\n",
    "print(False)"
   ]
  },
  {
   "cell_type": "markdown",
   "id": "5a95f6a0",
   "metadata": {},
   "source": [
    "<p>&nbsp;-----------------------------------------------------------------------------------&nbsp;&nbsp;</p>"
   ]
  },
  {
   "cell_type": "markdown",
   "id": "e7c500b1",
   "metadata": {},
   "source": [
    "### Q.5. For what purpose def keyword is used?"
   ]
  },
  {
   "cell_type": "markdown",
   "id": "da3f0d41",
   "metadata": {},
   "source": [
    "<p><strong>Ans:</strong></p>\n",
    "\n",
    "\n",
    "<p>Python <code>def</code> keyword is used to define a function, it is placed before a function name that is provided by the user to create a user-defined function.</p>"
   ]
  },
  {
   "cell_type": "markdown",
   "id": "00e9ce98",
   "metadata": {},
   "source": [
    "<p>&nbsp;-----------------------------------------------------------------------------------&nbsp;&nbsp;</p>"
   ]
  },
  {
   "cell_type": "markdown",
   "id": "35a3282f",
   "metadata": {},
   "source": [
    "### Q.6. What is the operation of this special character ‘\\’?"
   ]
  },
  {
   "cell_type": "markdown",
   "id": "f734630f",
   "metadata": {},
   "source": [
    "<p><strong>Ans:</strong></p>\n",
    "\n",
    "\n",
    "<p>Python allows to split long statements across multiple lines for readability. If we need to break a statement into multiple lines, we can use a backslash at the end of the line to indicate that the statement continues on the next line. We can see this in the following multi-line statement...</p>"
   ]
  },
  {
   "cell_type": "code",
   "execution_count": 3,
   "id": "cf981cba",
   "metadata": {},
   "outputs": [
    {
     "name": "stdout",
     "output_type": "stream",
     "text": [
      "100\n"
     ]
    }
   ],
   "source": [
    "total = 10 + 20 + \\\n",
    "        30 + 40\n",
    "print(total)"
   ]
  },
  {
   "cell_type": "markdown",
   "id": "59d7ade3",
   "metadata": {},
   "source": [
    "<p>&nbsp;-----------------------------------------------------------------------------------&nbsp;&nbsp;</p>"
   ]
  },
  {
   "cell_type": "markdown",
   "id": "12356cb2",
   "metadata": {},
   "source": [
    "### Q.7. Give an example of the following conditions:\n",
    "### (i) Homogeneous list\n",
    "### (ii) Heterogeneous set\n",
    "### (iii) Homogeneous tuple"
   ]
  },
  {
   "cell_type": "code",
   "execution_count": 4,
   "id": "cae8ae88",
   "metadata": {},
   "outputs": [
    {
     "name": "stdout",
     "output_type": "stream",
     "text": [
      "Example of Homogeneous list ['a', 'b', 'c', 'd']\n",
      "Example of Heterogeneous set {2.0, 'b', 'a', 1000, 'c'}\n",
      "Example of Homogeneous tuple (1, 2, 3, 4)\n"
     ]
    }
   ],
   "source": [
    "# Homogeneous list\n",
    "\n",
    "Homo_list = [\"a\",\"b\",\"c\",\"d\"]\n",
    "print(\"Example of Homogeneous list\",Homo_list)\n",
    "\n",
    "# Heterogeneous set\n",
    "\n",
    "Hetero_set = {\"a\",\"b\",\"c\",1000,2.0}\n",
    "print(\"Example of Heterogeneous set\",Hetero_set)\n",
    "\n",
    "# Homogeneous tuple\n",
    "\n",
    "Homo_tuple = (1,2,3,4)\n",
    "print(\"Example of Homogeneous tuple\",Homo_tuple)\n"
   ]
  },
  {
   "cell_type": "markdown",
   "id": "34f44ac4",
   "metadata": {},
   "source": [
    "<p>&nbsp;-----------------------------------------------------------------------------------&nbsp;&nbsp;</p>"
   ]
  },
  {
   "cell_type": "markdown",
   "id": "78691c9b",
   "metadata": {},
   "source": [
    "### Q.8. Explain the mutable and immutable data types with proper explanation & examples.\n"
   ]
  },
  {
   "cell_type": "markdown",
   "id": "bb3ea878",
   "metadata": {},
   "source": [
    "<p><strong>Ans:</strong></p>\n",
    "\n",
    "\n",
    "<p>&nbsp;Mutable data types means their elements can be changed (Ex- List, Dictionaries). Conversely, immutable data types cannot be changed (Ex- Tuple). </p>\n",
    "\n",
    "<li><p>Let's take the example of a list <code>list_a = [1,2,3,4]</code>. We can change the any value within this List. Say, we want to update the 1st value. So, we can  write <code>list_a[0] = 7</code> to update the list_a. Hence, list is a mutable data type.</p></li>\n",
    "\n",
    "<li><p>But we cannot do the same for the Tuples. Once a tuple is defined, we cannot change or remove any value.</p></li>"
   ]
  },
  {
   "cell_type": "code",
   "execution_count": 5,
   "id": "a17f71ef",
   "metadata": {},
   "outputs": [
    {
     "name": "stdout",
     "output_type": "stream",
     "text": [
      "Old list is [1, 2, 3, 4]\n",
      "New list is [7, 2, 3, 4]\n"
     ]
    }
   ],
   "source": [
    "# Mutable\n",
    "\n",
    "\n",
    "list_a = [1,2,3,4]\n",
    "print(\"Old list is\",list_a )\n",
    "\n",
    "list_a[0] = 7\n",
    "print(\"New list is\",list_a )\n",
    "\n"
   ]
  },
  {
   "cell_type": "markdown",
   "id": "313c07b3",
   "metadata": {},
   "source": [
    "<p>&nbsp;-----------------------------------------------------------------------------------&nbsp;&nbsp;</p>"
   ]
  },
  {
   "cell_type": "markdown",
   "id": "e6ed006f",
   "metadata": {},
   "source": [
    "### Q.9. Write a code to create the given structure using only for loop."
   ]
  },
  {
   "cell_type": "markdown",
   "id": "d37d71c7",
   "metadata": {},
   "source": [
    "<p><strong>Ans:</strong></p>"
   ]
  },
  {
   "cell_type": "code",
   "execution_count": 6,
   "id": "b053d628",
   "metadata": {},
   "outputs": [
    {
     "name": "stdout",
     "output_type": "stream",
     "text": [
      "    *\n",
      "   ***\n",
      "  *****\n",
      " *******\n",
      "*********\n"
     ]
    }
   ],
   "source": [
    "n = 5\n",
    "\n",
    "for i in range(1,n+1):\n",
    "    for space in range(n-i):\n",
    "        print(\" \", end = \"\")\n",
    "    for j in range(1, i+1):\n",
    "        print(\"*\", end = \"\")\n",
    "    for start in range(i-1,0,-1):\n",
    "        print(\"*\", end= \"\")\n",
    "    print()"
   ]
  },
  {
   "cell_type": "markdown",
   "id": "cd662234",
   "metadata": {},
   "source": [
    "<p>&nbsp;-----------------------------------------------------------------------------------&nbsp;&nbsp;</p>"
   ]
  },
  {
   "cell_type": "markdown",
   "id": "69bbe407",
   "metadata": {},
   "source": [
    "### Q.10. Write a code to create the given structure using while loop.\n"
   ]
  },
  {
   "cell_type": "markdown",
   "id": "0856d446",
   "metadata": {},
   "source": [
    "<p><strong>Ans:</strong></p>"
   ]
  },
  {
   "cell_type": "code",
   "execution_count": 7,
   "id": "fe07dd1b",
   "metadata": {},
   "outputs": [
    {
     "name": "stdout",
     "output_type": "stream",
     "text": [
      "|||||||||\n",
      " |||||||\n",
      "  |||||\n",
      "   |||\n",
      "    |\n"
     ]
    }
   ],
   "source": [
    "n = 5\n",
    "\n",
    "for i in range(1,n+1):\n",
    "    for space in range(i-1):\n",
    "        print(\" \", end = \"\")\n",
    "    for j in range(i, n+1):\n",
    "        print(\"|\", end = \"\")\n",
    "    for start in range(n-i,0,-1):\n",
    "        print(\"|\", end= \"\")\n",
    "    print()"
   ]
  }
 ],
 "metadata": {
  "kernelspec": {
   "display_name": "Python 3 (ipykernel)",
   "language": "python",
   "name": "python3"
  },
  "language_info": {
   "codemirror_mode": {
    "name": "ipython",
    "version": 3
   },
   "file_extension": ".py",
   "mimetype": "text/x-python",
   "name": "python",
   "nbconvert_exporter": "python",
   "pygments_lexer": "ipython3",
   "version": "3.10.9"
  }
 },
 "nbformat": 4,
 "nbformat_minor": 5
}
