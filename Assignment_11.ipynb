{
 "cells": [
  {
   "cell_type": "markdown",
   "id": "4d44f22a",
   "metadata": {},
   "source": [
    "\n",
    "\n",
    "# 18 June\n",
    "\n",
    "# Python Basic - 6"
   ]
  },
  {
   "cell_type": "markdown",
   "id": "46e5c5ae",
   "metadata": {},
   "source": [
    "### Q.1. What is the role of the 'else' block in a try-except statement? Provide an example scenario where it would be useful."
   ]
  },
  {
   "cell_type": "markdown",
   "id": "4584aa63",
   "metadata": {},
   "source": [
    "<p><strong>Ans:</strong></p>\n",
    "\n",
    "The \"<code>else</code>\" block in a try-except statement is optional and follows all the \"<code>except</code>\" blocks. It is executed only if no exception is raised within the corresponding \"<code>try</code>\" block. The role of the \"<code>else</code>\" block is to define a section of code that should only execute if the code within the \"<code>try</code>\" block completes successfully without any exceptions.\n",
    "\n",
    "The \"<code>else</code>\" block in a try-except statement allows us to specify code that executes only if no exception is raised, providing a way to distinguish between exceptional and non-exceptional cases and enabling more precise control flow in our program.\n",
    "\n",
    "Here is an example:"
   ]
  },
  {
   "cell_type": "code",
   "execution_count": 1,
   "id": "95b620fe",
   "metadata": {},
   "outputs": [
    {
     "name": "stdout",
     "output_type": "stream",
     "text": [
      "The result is 0.5\n"
     ]
    }
   ],
   "source": [
    "try:\n",
    "    a = 3\n",
    "    b = 6\n",
    "    \n",
    "    result = a/b\n",
    "    \n",
    "except ValueError:\n",
    "    \n",
    "    print(\"Wrong Value Entered!\")\n",
    "    \n",
    "else:\n",
    "    \n",
    "    print(\"The result is\", result)"
   ]
  },
  {
   "cell_type": "markdown",
   "id": "6f20a36a",
   "metadata": {},
   "source": [
    "<p>&nbsp;-----------------------------------------------------------------------------------&nbsp;&nbsp;</p>"
   ]
  },
  {
   "cell_type": "markdown",
   "id": "3cdae529",
   "metadata": {},
   "source": [
    "### Q.2. Can a try-except block be nested inside another try-except block? Explain with an example."
   ]
  },
  {
   "cell_type": "markdown",
   "id": "78ef8786",
   "metadata": {},
   "source": [
    "<p><strong>Ans:</strong></p>\n",
    "\n",
    "We can see it in the following example:"
   ]
  },
  {
   "cell_type": "code",
   "execution_count": 2,
   "id": "d774f2ff",
   "metadata": {},
   "outputs": [
    {
     "name": "stdout",
     "output_type": "stream",
     "text": [
      "Enter 1st No: 4\n",
      "Enter 2nd No: 0\n",
      "Caught ZeroDivisionError in the inner except block\n"
     ]
    }
   ],
   "source": [
    "try:\n",
    "    a = float(input(\"Enter 1st No: \"))\n",
    "    b = float(input(\"Enter 2nd No: \"))\n",
    "    \n",
    "    try:\n",
    "        c = a/b\n",
    "        \n",
    "    except ZeroDivisionError:\n",
    "        print(\"Caught ZeroDivisionError in the inner except block\")\n",
    "\n",
    "except:\n",
    "    print(\"Caught exception in the outer except block\")\n"
   ]
  },
  {
   "cell_type": "markdown",
   "id": "6312c05c",
   "metadata": {},
   "source": [
    "<p>&nbsp;-----------------------------------------------------------------------------------&nbsp;&nbsp;</p>"
   ]
  },
  {
   "cell_type": "markdown",
   "id": "11e0c96f",
   "metadata": {},
   "source": [
    "### Q.3. How can you create a custom exception class in Python? Provide an example that demonstrates its usage."
   ]
  },
  {
   "cell_type": "markdown",
   "id": "f314f90c",
   "metadata": {},
   "source": [
    "<p><strong>Ans:</strong></p>\n",
    "\n",
    "In Python, we can create a custom exception class by inheriting from the built-in Exception class or any of its subclasses. This allows us to define your own exception hierarchy and customize the behavior of your exceptions\n",
    "\n",
    "We can see it in the following example:"
   ]
  },
  {
   "cell_type": "code",
   "execution_count": 3,
   "id": "cbe41fa3",
   "metadata": {},
   "outputs": [],
   "source": [
    "class CustomException(Exception):\n",
    "    \n",
    "    def __init__(self, message):\n",
    "        self.message = message\n",
    "        super().__init__(message)\n",
    "\n",
    "    def __str__(self):\n",
    "        return f\"Custom Exception: {self.message}\"\n"
   ]
  },
  {
   "cell_type": "markdown",
   "id": "d0b87565",
   "metadata": {},
   "source": [
    "<p>&nbsp;-----------------------------------------------------------------------------------&nbsp;&nbsp;</p>"
   ]
  },
  {
   "cell_type": "markdown",
   "id": "5ee49c70",
   "metadata": {},
   "source": [
    "### Q.4. What are some common exceptions that are built-in to Python?"
   ]
  },
  {
   "cell_type": "markdown",
   "id": "5249cba4",
   "metadata": {},
   "source": [
    "<p><strong>Ans:</strong></p>\n",
    "\n",
    "Python provides several built-in exceptions that are commonly used to handle various types of errors or exceptional situations. Some of the most common built-in exceptions in Python include:\n",
    "\n",
    "1. `SyntaxError`: Raised when there is a syntax error in the code.\n",
    "2. `IndentationError`: Raised when there is an incorrect indentation in the code.\n",
    "3. `NameError`: Raised when a local or global name is not found.\n",
    "4. `TypeError`: Raised when an operation or function is applied to an object of an inappropriate type.\n",
    "5. `ValueError`: Raised when a built-in operation or function receives an argument of the correct type but an invalid value.\n",
    "6. `KeyError`: Raised when a dictionary key is not found.\n",
    "7. `IndexError`: Raised when a sequence subscript is out of range.\n",
    "8. `FileNotFoundError`: Raised when a file or directory is requested but cannot be found.\n",
    "9. `IOError`: Raised when an input/output operation fails.\n",
    "10. `AttributeError`: Raised when an attribute reference or assignment fails.\n",
    "11. `ZeroDivisionError`: Raised when division or modulo by zero is performed.\n",
    "12. `ImportError`: Raised when an import statement fails to find and load a module.\n",
    "\n"
   ]
  },
  {
   "cell_type": "markdown",
   "id": "1e6dbdf2",
   "metadata": {},
   "source": [
    "<p>&nbsp;-----------------------------------------------------------------------------------&nbsp;&nbsp;</p>"
   ]
  },
  {
   "cell_type": "markdown",
   "id": "a0faedf0",
   "metadata": {},
   "source": [
    "### Q.5. What is logging in Python, and why is it important in software development?"
   ]
  },
  {
   "cell_type": "markdown",
   "id": "ea20ee6d",
   "metadata": {},
   "source": [
    "<p><strong>Ans:</strong></p>\n",
    "\n",
    "Logging in Python refers to the process of recording events or messages that occur during the execution of a program. The logging module in Python provides a standardized way to create log messages and store them for later analysis. It allows developers to track and record important information about the program's behavior, errors, warnings, and other relevant details.\n",
    "\n",
    "Logging is crucial in software development for several reasons:\n",
    "\n",
    "1. **Debugging and troubleshooting**: Logging helps in identifying and diagnosing issues during development and debugging. By logging relevant information, such as variable values, function calls, or error messages, developers can analyze the log output to understand what went wrong and trace the flow of execution.\n",
    "\n",
    "2. **Error and exception tracking**: Logging allows developers to capture and log exceptions, errors, and warnings that occur during program execution. This information helps in identifying and resolving issues in production environments and provides insights into potential problems that need attention.\n",
    "\n",
    "3. **Performance monitoring**: By logging relevant performance metrics, such as execution time, resource usage, or system status, developers can monitor and optimize the performance of their software. These logs can help identify bottlenecks and optimize code or system configurations accordingly.\n",
    "\n",
    "4. **Auditing and compliance**: Logging is essential for auditing purposes and compliance with regulatory requirements. By maintaining detailed logs, developers can keep a record of user activities, system events, or any other relevant information, which may be required for security audits or legal compliance.\n",
    "\n",
    "5. **Application monitoring**: Logging can be integrated with monitoring tools or services to gain insights into the health and behavior of the application. By analyzing log data, developers can detect anomalies, track usage patterns, and make informed decisions for performance optimization and system scaling.\n",
    "\n",
    "6. **Information and analytics**: Log data can provide valuable insights and analytics about the usage, behavior, and performance of the software. By analyzing logs, developers can gain a better understanding of user patterns, identify trends, and make data-driven decisions for future improvements or feature enhancements.\n"
   ]
  },
  {
   "cell_type": "markdown",
   "id": "311ec33e",
   "metadata": {},
   "source": [
    "<p>&nbsp;-----------------------------------------------------------------------------------&nbsp;&nbsp;</p>"
   ]
  },
  {
   "cell_type": "markdown",
   "id": "16d3166d",
   "metadata": {},
   "source": [
    "### Q.6. Explain the purpose of log levels in Python logging and provide examples of when each log level would be appropriate."
   ]
  },
  {
   "cell_type": "markdown",
   "id": "9be5579b",
   "metadata": {},
   "source": [
    "<p><strong>Ans:</strong></p>\n",
    "\n",
    "Here are the different log levels in increasing order of severity:\n",
    "\n",
    "<li>\n",
    "<strong>DEBUG:</strong> Detailed information, typically of interest only when diagnosing problems.</li>\n",
    "<li>\n",
    "<strong>INFO:</strong> Confirmation that things are working as expected.\n",
    "</li>\n",
    "<li>\n",
    "<strong>WARNING:</strong> An indication that something unexpected happened, or may happen in the future (e.g. ‘disk space low’). The software is still working as expected.</li>\n",
    "<li>\n",
    "<strong>ERROR:</strong> More serious problem that prevented the software from performing a function.</li><li>\n",
    "<strong>CRITICAL:</strong> A very serious error, indicating that the program itself may be unable to continue running.</li>"
   ]
  },
  {
   "cell_type": "code",
   "execution_count": 4,
   "id": "04a7970c",
   "metadata": {},
   "outputs": [
    {
     "name": "stderr",
     "output_type": "stream",
     "text": [
      "DEBUG:root:variables are 2 and 4\n"
     ]
    },
    {
     "data": {
      "text/plain": [
       "8"
      ]
     },
     "execution_count": 4,
     "metadata": {},
     "output_type": "execute_result"
    }
   ],
   "source": [
    "# Debug\n",
    "\n",
    "import logging\n",
    "    \n",
    "logging.basicConfig(level=logging.DEBUG)\n",
    "\n",
    "def mul(x,y):\n",
    "    \n",
    "    logging.debug(\"variables are %s and %s\",x,y)\n",
    "    \n",
    "    return x*y\n",
    "\n",
    "mul(2,4)"
   ]
  },
  {
   "cell_type": "code",
   "execution_count": 5,
   "id": "b5b03256",
   "metadata": {},
   "outputs": [
    {
     "name": "stderr",
     "output_type": "stream",
     "text": [
      "INFO:root:User Admin has logged in!\n"
     ]
    },
    {
     "data": {
      "text/plain": [
       "'Admin'"
      ]
     },
     "execution_count": 5,
     "metadata": {},
     "output_type": "execute_result"
    }
   ],
   "source": [
    "# Info\n",
    "\n",
    "import logging\n",
    "    \n",
    "logging.basicConfig(level=logging.INFO)\n",
    "\n",
    "def User(p):\n",
    "    \n",
    "    logging.info(\"User %s has logged in!\",p)\n",
    "    \n",
    "    return p\n",
    "\n",
    "User(\"Admin\")"
   ]
  },
  {
   "cell_type": "code",
   "execution_count": 6,
   "id": "445f91fe",
   "metadata": {},
   "outputs": [
    {
     "name": "stderr",
     "output_type": "stream",
     "text": [
      "WARNING:root:You have low balance\n"
     ]
    }
   ],
   "source": [
    "# Warning\n",
    "\n",
    "import logging\n",
    "    \n",
    "logging.basicConfig(level=logging.WARNING)\n",
    "\n",
    "def Balance(amount):\n",
    "    \n",
    "    if amount < 100:\n",
    "        logging.warning(\"You have low balance\")\n",
    "    else:\n",
    "        print(\"good to proceed!\")\n",
    "    \n",
    "\n",
    "Balance(90)"
   ]
  },
  {
   "cell_type": "code",
   "execution_count": 7,
   "id": "8da45ccc",
   "metadata": {},
   "outputs": [
    {
     "name": "stderr",
     "output_type": "stream",
     "text": [
      "ERROR:root:TypeError has occured\n"
     ]
    }
   ],
   "source": [
    "# Error\n",
    "\n",
    "import logging\n",
    "    \n",
    "logging.basicConfig(level=logging.ERROR)\n",
    "\n",
    "def add(x,y):\n",
    "    \n",
    "    try:\n",
    "        return x+y\n",
    "    \n",
    "    except TypeError:\n",
    "        \n",
    "        logging.error(\"TypeError has occured\")\n",
    "    \n",
    "\n",
    "add(1,\"2\")"
   ]
  },
  {
   "cell_type": "code",
   "execution_count": 8,
   "id": "7593b0fb",
   "metadata": {},
   "outputs": [
    {
     "name": "stderr",
     "output_type": "stream",
     "text": [
      "CRITICAL:root:Status is NOT OK, need your attention now!\n"
     ]
    }
   ],
   "source": [
    "# Critical Error\n",
    "\n",
    "import logging\n",
    "    \n",
    "logging.basicConfig(level=logging.CRITICAL)\n",
    "\n",
    "def Sys_Check(status):\n",
    "    \n",
    "    if status != \"OK\":\n",
    "        logging.critical(\"Status is %s, need your attention now!\",status)\n",
    "    else:\n",
    "        print(\"Good to proceed!\")\n",
    "\n",
    "Sys_Check(\"NOT OK\")"
   ]
  },
  {
   "cell_type": "markdown",
   "id": "6b2c5200",
   "metadata": {},
   "source": [
    "<p>&nbsp;-----------------------------------------------------------------------------------&nbsp;&nbsp;</p>"
   ]
  },
  {
   "cell_type": "markdown",
   "id": "7caddf1b",
   "metadata": {},
   "source": [
    "### Q.7. What are log formatters in Python logging, and how can you customise the log message format using formatters?"
   ]
  },
  {
   "cell_type": "markdown",
   "id": "a1112b90",
   "metadata": {},
   "source": [
    "<p><strong>Ans:</strong></p>\n",
    "\n",
    "In Python's logging module, log formatters are used to define the format of log messages. They provide a way to customize the appearance of log records when they are emitted by the logger. A log formatter is responsible for converting the log record attributes into a string representation that can be output to the desired log destination, such as the console or a file.\n",
    "\n",
    "The logging module provides a default log formatter called Formatter, which generates log messages in a predefined format. However, you can create your own custom log formatter by subclassing the Formatter class and overriding its methods to define your desired format.\n",
    "\n"
   ]
  },
  {
   "cell_type": "markdown",
   "id": "6b7b0423",
   "metadata": {},
   "source": [
    "To customize the log message format using formatters, you need to follow these steps:\n",
    "\n",
    "Create an instance of the logging.Formatter class, which represents the log message format. You can specify the desired format using a set of placeholders, similar to using the str.format() method.\n",
    "\n",
    "Configure the formatter for your logger by attaching it to a handler. A handler represents a destination for log messages, such as the console, a file, or a network socket. You can attach a formatter to a handler using the setFormatter() method.\n",
    "\n",
    "Customize the log message format by specifying the desired placeholders in the formatter's format string. Some commonly used placeholders include:\n",
    "\n",
    "%(asctime)s: The timestamp when the log message was created.\n",
    "%(levelname)s: The log level of the message (e.g., DEBUG, INFO, WARNING, ERROR, CRITICAL).\n",
    "%(name)s: The name of the logger that generated the message.\n",
    "%(message)s: The actual log message.\n",
    "\n",
    "\n",
    "\n",
    "\n",
    "\n",
    "\n"
   ]
  },
  {
   "cell_type": "code",
   "execution_count": 9,
   "id": "af6bf05b",
   "metadata": {},
   "outputs": [
    {
     "name": "stderr",
     "output_type": "stream",
     "text": [
      "2023-07-19 17:18:18,769 - DEBUG - This is a debug message\n",
      "DEBUG:my_logger:This is a debug message\n",
      "2023-07-19 17:18:18,772 - INFO - This is an info message\n",
      "INFO:my_logger:This is an info message\n",
      "2023-07-19 17:18:18,774 - WARNING - This is a warning message\n",
      "WARNING:my_logger:This is a warning message\n",
      "2023-07-19 17:18:18,776 - ERROR - This is an error message\n",
      "ERROR:my_logger:This is an error message\n"
     ]
    }
   ],
   "source": [
    "import logging\n",
    "\n",
    "# Create a logger\n",
    "logger = logging.getLogger('my_logger')\n",
    "logger.setLevel(logging.DEBUG)\n",
    "\n",
    "# Create a formatter\n",
    "formatter = logging.Formatter('%(asctime)s - %(levelname)s - %(message)s')\n",
    "\n",
    "# Create a handler and attach the formatter\n",
    "handler = logging.StreamHandler()\n",
    "handler.setFormatter(formatter)\n",
    "\n",
    "# Attach the handler to the logger\n",
    "logger.addHandler(handler)\n",
    "\n",
    "# Log some messages\n",
    "logger.debug('This is a debug message')\n",
    "logger.info('This is an info message')\n",
    "logger.warning('This is a warning message')\n",
    "logger.error('This is an error message')\n"
   ]
  },
  {
   "cell_type": "markdown",
   "id": "8bcfa5ae",
   "metadata": {},
   "source": [
    "<p>&nbsp;-----------------------------------------------------------------------------------&nbsp;&nbsp;</p>"
   ]
  },
  {
   "cell_type": "markdown",
   "id": "83c4a776",
   "metadata": {},
   "source": [
    "### Q.8. How can you set up logging to capture log messages from multiple modules or classes in a Python application?"
   ]
  },
  {
   "cell_type": "markdown",
   "id": "cf47a0e1",
   "metadata": {},
   "source": [
    "<p><strong>Ans:</strong></p>\n",
    "\n",
    "In Python, we can set up logging to capture log messages from multiple modules or classes using the built-in logging module. The logging module provides a flexible and customizable way to handle logging in your application.\n",
    "\n",
    "We can see it in the following example:"
   ]
  },
  {
   "cell_type": "code",
   "execution_count": 10,
   "id": "d70275f3",
   "metadata": {},
   "outputs": [
    {
     "name": "stderr",
     "output_type": "stream",
     "text": [
      "DEBUG:my_log:This is a debug message!\n",
      "INFO:my_log:This is a info message!\n",
      "WARNING:my_log:This is a warning message!\n",
      "CRITICAL:my_log:This is a critical message!\n"
     ]
    }
   ],
   "source": [
    "import logging\n",
    "\n",
    "logging.basicConfig(level = logging.DEBUG)\n",
    "\n",
    "logger = logging.getLogger(\"my_log\")\n",
    "\n",
    "file_handler = logging.FileHandler(\"log_file\")\n",
    "\n",
    "formatter = logging.Formatter('%(asctime)s - %(name)s - %(levelname)s - %(message)s')\n",
    "\n",
    "file_handler.setFormatter(formatter)\n",
    "\n",
    "logger.addHandler(file_handler)\n",
    "\n",
    "\n",
    "# creating Myclass\n",
    "\n",
    "class Myclass:\n",
    "    \n",
    "    def __init__(self):\n",
    "        \n",
    "        self.logger = logging.getLogger(\"my_log\")\n",
    "        \n",
    "    def addlog(self):\n",
    "        \n",
    "        self.logger.debug(\"This is a debug message!\")\n",
    "        self.logger.info(\"This is a info message!\")\n",
    "        self.logger.warning(\"This is a warning message!\")\n",
    "        self.logger.critical(\"This is a critical message!\")\n",
    "        \n",
    "my_instance = Myclass()\n",
    "my_instance.addlog()\n",
    "\n",
    "for handler in logger.handlers:\n",
    "    handler.close()\n",
    "    logger.removeHandler(handler)\n",
    "    "
   ]
  },
  {
   "cell_type": "markdown",
   "id": "5c580978",
   "metadata": {},
   "source": [
    "<p>&nbsp;-----------------------------------------------------------------------------------&nbsp;&nbsp;</p>"
   ]
  },
  {
   "cell_type": "markdown",
   "id": "b75abe6d",
   "metadata": {},
   "source": [
    "### Q.9. What is the difference between the logging and print statements in Python? When should you use logging over print statements in a real-world application?"
   ]
  },
  {
   "cell_type": "markdown",
   "id": "0535a397",
   "metadata": {},
   "source": [
    "<p><strong>Ans:</strong></p>\n",
    "\n",
    "In Python, both logging and print statements are used for displaying information during the execution of a program. However, there are some key differences between the two and specific use cases where one is preferred over the other.\n",
    "\n",
    "Print statements:\n",
    "- The `print` statement is a built-in function in Python that outputs the specified text or value to the console.\n",
    "- It is primarily used for debugging purposes or providing immediate feedback during development.\n",
    "- Print statements are typically used for temporary or ad hoc debugging and are not meant to be part of the permanent codebase.\n",
    "- By default, print statements write to the standard output, which is the console, but they can be redirected to a file or a different stream.\n",
    "\n",
    "Logging:\n",
    "- The `logging` module in Python provides a more powerful and flexible way to log information during program execution.\n",
    "- Logging is designed to be a systematic and long-term approach for generating log messages and tracking the behavior of an application.\n",
    "- It allows you to define different log levels (e.g., DEBUG, INFO, WARNING, ERROR, CRITICAL) to categorize and filter log messages based on their severity.\n",
    "- Log messages can be written to various outputs, such as the console, files, network sockets, or even external logging services.\n",
    "- Logging provides features like timestamps, log message formatting, and the ability to capture stack traces, making it suitable for production-ready codebases.\n",
    "- It offers more granular control over log messages, including filtering, enabling or disabling specific loggers or handlers, and setting log levels dynamically.\n",
    "\n",
    "When to use logging over print statements:\n",
    "- Logging is particularly useful in real-world applications, especially larger codebases or projects that involve multiple developers or teams. It provides a standardized approach to record and analyze application behavior.\n",
    "- In production environments, print statements are generally not recommended since they can clutter the console and affect the performance of the application.\n",
    "- Logging allows you to easily enable or disable specific log levels or modules without modifying the code, which can be valuable for troubleshooting and monitoring.\n",
    "- With logging, you can capture and store logs in a central location, making it easier to analyze and diagnose issues in distributed systems or when the application is running remotely.\n",
    "- Unlike print statements, logging statements can remain in the codebase without affecting performance, allowing you to keep a history of previous behavior or enable debugging temporarily when needed.\n"
   ]
  },
  {
   "cell_type": "markdown",
   "id": "e94330e7",
   "metadata": {},
   "source": [
    "<p>&nbsp;-----------------------------------------------------------------------------------&nbsp;&nbsp;</p>"
   ]
  },
  {
   "cell_type": "markdown",
   "id": "72138548",
   "metadata": {},
   "source": [
    "### Q.10. Write a Python program that logs a message to a file named \"app.log\" with the following requirements:\n",
    "\n",
    "### ● The log message should be \"Hello, World!\"\n",
    "### ● The log level should be set to \"INFO.\"\n",
    "### ● The log file should append new log entries without overwriting previous ones."
   ]
  },
  {
   "cell_type": "code",
   "execution_count": 11,
   "id": "69e8d42f",
   "metadata": {},
   "outputs": [
    {
     "name": "stderr",
     "output_type": "stream",
     "text": [
      "INFO:my_log:This is a info message 1!\n",
      "INFO:my_log:This is a info message 2!\n",
      "INFO:my_log:This is a info message 3!\n"
     ]
    }
   ],
   "source": [
    "import logging\n",
    "\n",
    "logging.basicConfig(level = logging.INFO)\n",
    "\n",
    "logger = logging.getLogger(\"my_log\")\n",
    "\n",
    "file_handler = logging.FileHandler(\"app.log\")\n",
    "\n",
    "formatter = logging.Formatter('%(asctime)s - %(name)s - %(levelname)s - %(message)s')\n",
    "\n",
    "file_handler.setFormatter(formatter)\n",
    "\n",
    "logger.addHandler(file_handler)\n",
    "\n",
    "\n",
    "# creating Myclass\n",
    "\n",
    "class Myclass:\n",
    "    \n",
    "    def __init__(self):\n",
    "        \n",
    "        self.logger = logging.getLogger(\"my_log\")\n",
    "        \n",
    "    def addlog(self):\n",
    "        \n",
    "        self.logger.info(\"This is a info message 1!\")\n",
    "        self.logger.info(\"This is a info message 2!\")\n",
    "        self.logger.info(\"This is a info message 3!\")\n",
    "        \n",
    "my_instance = Myclass()\n",
    "my_instance.addlog()\n",
    "\n",
    "for handler in logger.handlers:\n",
    "    handler.close()\n",
    "    logger.removeHandler(handler)\n",
    "    "
   ]
  },
  {
   "cell_type": "markdown",
   "id": "5232ae27",
   "metadata": {},
   "source": [
    "<p>&nbsp;-----------------------------------------------------------------------------------&nbsp;&nbsp;</p>"
   ]
  },
  {
   "cell_type": "markdown",
   "id": "e407f35d",
   "metadata": {},
   "source": [
    "### Q.11. Create a Python program that logs an error message to the console and a file named \"errors.log\" if an exception occurs during the program's execution. The error message should include the exception type and a timestamp."
   ]
  },
  {
   "cell_type": "code",
   "execution_count": 12,
   "id": "b48a30cf",
   "metadata": {},
   "outputs": [
    {
     "name": "stdout",
     "output_type": "stream",
     "text": [
      "Enter the first number: 5\n",
      "Enter the second number: 0\n"
     ]
    },
    {
     "name": "stderr",
     "output_type": "stream",
     "text": [
      "ERROR:my_log:An error occurred:division by zero\n"
     ]
    }
   ],
   "source": [
    "import logging\n",
    "\n",
    "logging.basicConfig(level = logging.ERROR)\n",
    "\n",
    "logger = logging.getLogger(\"my_log\")\n",
    "\n",
    "file_handler = logging.FileHandler(\"errors.log\")\n",
    "\n",
    "formatter = logging.Formatter('%(asctime)s - %(name)s - %(levelname)s - %(message)s')\n",
    "\n",
    "file_handler.setFormatter(formatter)\n",
    "\n",
    "logger.addHandler(file_handler)\n",
    "\n",
    "\n",
    "# creating Myclass\n",
    "\n",
    "class Myclass:\n",
    "    \n",
    "    def __init__(self):\n",
    "        \n",
    "        self.logger = logging.getLogger(\"my_log\")\n",
    "        \n",
    "    def addlog(self,a,b):\n",
    "        \n",
    "        try:\n",
    "    \n",
    "            a = int(input(\"Enter the first number: \"))\n",
    "            b = int(input(\"Enter the second number: \"))\n",
    "            result = a / b\n",
    "            print(\"The result is:\", result)\n",
    "    \n",
    "        except Exception as e:\n",
    "    \n",
    "            self.logger.error(f\"An error occurred:{str(e)}\")\n",
    "        \n",
    "my_instance = Myclass()\n",
    "my_instance.addlog(5,0)\n",
    "\n",
    "for handler in logger.handlers:\n",
    "    handler.close()\n",
    "    logger.removeHandler(handler)\n",
    "    "
   ]
  },
  {
   "cell_type": "markdown",
   "id": "d17d3f27",
   "metadata": {},
   "source": [
    "<p>&nbsp;-----------------------------------------------------------------------------------&nbsp;&nbsp;</p>"
   ]
  }
 ],
 "metadata": {
  "kernelspec": {
   "display_name": "Python 3 (ipykernel)",
   "language": "python",
   "name": "python3"
  },
  "language_info": {
   "codemirror_mode": {
    "name": "ipython",
    "version": 3
   },
   "file_extension": ".py",
   "mimetype": "text/x-python",
   "name": "python",
   "nbconvert_exporter": "python",
   "pygments_lexer": "ipython3",
   "version": "3.10.9"
  }
 },
 "nbformat": 4,
 "nbformat_minor": 5
}
