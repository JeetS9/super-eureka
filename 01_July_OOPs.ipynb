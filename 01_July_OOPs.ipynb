{
 "cells": [
  {
   "cell_type": "markdown",
   "id": "039f1f7a",
   "metadata": {},
   "source": [
    "# 01 July Assignments"
   ]
  },
  {
   "cell_type": "markdown",
   "id": "d1714ab6",
   "metadata": {},
   "source": [
    "### Q.1. What is the primary goal of Object-Oriented Programming (OOP)?"
   ]
  },
  {
   "cell_type": "markdown",
   "id": "81aa0612",
   "metadata": {},
   "source": [
    "<p><strong>Ans:</strong></p>\n",
    "\n",
    "The primary goal of Object-Oriented Programming (OOP) is to provide a structured and modular approach to software development. OOP aims to organize code into objects, which are instances of classes, and enables developers to represent real-world entities, concepts, or systems as software objects.\n",
    "\n",
    "The key principles of OOP include encapsulation, inheritance, and polymorphism:\n",
    "\n",
    "1. Encapsulation: This principle emphasizes bundling data and methods (functions) together within an object. It allows for information hiding and provides a clear interface for interacting with the object. Encapsulation helps in building modular and maintainable code.\n",
    "\n",
    "2. Inheritance: Inheritance allows objects to inherit properties and behaviors from other objects, promoting code reuse. It facilitates the creation of hierarchical relationships between classes, where a subclass (derived class) can inherit attributes and methods from a superclass (base class). Inheritance supports the concept of \"is-a\" relationships.\n",
    "\n",
    "3. Polymorphism: Polymorphism refers to the ability of objects to exhibit different behaviors based on their class or type. It allows different objects to respond differently to the same method call. Polymorphism promotes code flexibility and extensibility.\n",
    "\n",
    "3. Abstraction: In Python, abstraction is typically achieved through the use of abstract classes and interfaces. An abstract class is a class that cannot be instantiated and serves as a blueprint for other classes. It defines common attributes and methods that subclasses must implement.\n",
    "\n",
    "By leveraging these principles, OOP in Python helps developers write modular, reusable, and maintainable code. It enables the creation of complex systems by breaking them down into smaller, self-contained objects that interact with each other. OOP also fosters code organization, enhances code readability, and facilitates collaboration in larger development teams."
   ]
  },
  {
   "cell_type": "markdown",
   "id": "e3f70269",
   "metadata": {},
   "source": [
    "<p>&nbsp;-----------------------------------------------------------------------------------&nbsp;&nbsp;</p>"
   ]
  },
  {
   "cell_type": "markdown",
   "id": "07e6db65",
   "metadata": {},
   "source": [
    "### Q.2. What is an object in Python?"
   ]
  },
  {
   "cell_type": "markdown",
   "id": "802eb5c5",
   "metadata": {},
   "source": [
    "<p><strong>Ans:</strong></p>\n",
    "\n",
    "In Python, an object is a fundamental concept in Object-Oriented Programming (OOP). It is a runtime instance of a class, which is a blueprint or template defining the properties (attributes) and behaviors (methods) that the object will have. An object can represent a real-world entity, concept, or system.\n",
    "\n",
    "We can see it in the following example <code>phone1</code> is an object of <code>Phone</code> class:"
   ]
  },
  {
   "cell_type": "code",
   "execution_count": 1,
   "id": "d2585c36",
   "metadata": {},
   "outputs": [
    {
     "name": "stdout",
     "output_type": "stream",
     "text": [
      "The Space Gray Apple phone is turned on!\n"
     ]
    }
   ],
   "source": [
    "class Phone:\n",
    "    \n",
    "    def __init__(self,brand,colour):\n",
    "        \n",
    "        self.brand = brand\n",
    "        self.colour = colour\n",
    "        \n",
    "    def turn_on(self):\n",
    "        \n",
    "        print(f\"The {self.colour} {self.brand} phone is turned on!\")\n",
    "\n",
    "\n",
    "        \n",
    "phone1 = Phone(\"Apple\",\"Space Gray\")\n",
    "\n",
    "phone1.turn_on()"
   ]
  },
  {
   "cell_type": "markdown",
   "id": "2513ebd9",
   "metadata": {},
   "source": [
    "<p>&nbsp;-----------------------------------------------------------------------------------&nbsp;&nbsp;</p>"
   ]
  },
  {
   "cell_type": "markdown",
   "id": "a745ff9d",
   "metadata": {},
   "source": [
    "### Q.3. What is a class in Python?"
   ]
  },
  {
   "cell_type": "markdown",
   "id": "5e68db69",
   "metadata": {},
   "source": [
    "<p><strong>Ans:</strong></p>\n",
    "\n",
    "In Python, a class is a blueprint or template that defines the attributes and behaviors (methods) that objects of that class will possess. It serves as a blueprint for creating objects, allowing us to define how an object should be structured and what it should be capable of doing.\n",
    "\n",
    "We can see it in the following example <code>Phone</code> is a class:"
   ]
  },
  {
   "cell_type": "code",
   "execution_count": 2,
   "id": "7a5de5e3",
   "metadata": {},
   "outputs": [],
   "source": [
    "class Phone:\n",
    "    \n",
    "    def __init__(self,brand,colour):\n",
    "        \n",
    "        self.brand = brand\n",
    "        self.colour = colour\n",
    "        \n",
    "    def turn_on(self):\n",
    "        \n",
    "        print(f\"The {self.colour} {self.brand} phone is turned on!\")\n"
   ]
  },
  {
   "cell_type": "markdown",
   "id": "e82c011b",
   "metadata": {},
   "source": [
    "<p>&nbsp;-----------------------------------------------------------------------------------&nbsp;&nbsp;</p>"
   ]
  },
  {
   "cell_type": "markdown",
   "id": "30d117ef",
   "metadata": {},
   "source": [
    "### Q.4. What are attributes and methods in a class?"
   ]
  },
  {
   "cell_type": "markdown",
   "id": "2e219f79",
   "metadata": {},
   "source": [
    "<p><strong>Ans:</strong></p>\n",
    "\n",
    "Attributes are the variables associated with a class or its instances (objects). They represent the state or characteristics of an object. Attributes store data that can be unique to each object or shared among all objects of the class. Attributes are defined within the class and can be accessed and modified using dot notation.\n",
    "\n",
    "Methods are functions defined within a class that define the behavior or actions that objects of the class can perform. Methods operate on the attributes of the class or perform specific tasks associated with the class. They can access and modify the attributes of the class and can also take arguments.\n",
    "\n",
    "\n",
    "We can see it in the following example <code>brand</code> & <code>colour</code> are two attributes , also <code>turn_on()</code> is a method of the <code>Phone</code> class:"
   ]
  },
  {
   "cell_type": "code",
   "execution_count": 3,
   "id": "e6f62076",
   "metadata": {},
   "outputs": [],
   "source": [
    "class Phone:\n",
    "    \n",
    "    def __init__(self,brand,colour):\n",
    "        \n",
    "        self.brand = brand\n",
    "        self.colour = colour\n",
    "        \n",
    "    def turn_on(self):\n",
    "        \n",
    "        print(f\"The {self.colour} {self.brand} phone is turned on!\")\n"
   ]
  },
  {
   "cell_type": "markdown",
   "id": "f397e027",
   "metadata": {},
   "source": [
    "<p>&nbsp;-----------------------------------------------------------------------------------&nbsp;&nbsp;</p>"
   ]
  },
  {
   "cell_type": "markdown",
   "id": "f084222a",
   "metadata": {},
   "source": [
    "### Q.5. What is the difference between class variables and instance variables in Python?"
   ]
  },
  {
   "cell_type": "markdown",
   "id": "4fb336e5",
   "metadata": {},
   "source": [
    "<p><strong>Ans:</strong></p>\n",
    "\n",
    "<strong>Class Variables</strong>:\n",
    "\n",
    "Class variables are defined within a class but outside any methods. They are shared among all instances (objects) of the class. Class variables are typically used to represent data that is common to all objects of the class. They are declared and initialized outside any instance methods, usually at the top of the class definition. Class variables are accessed using the class name itself or through any instance of the class. Changes made to a class variable are visible to all instances of the class.\n",
    "\n",
    "<strong>Instance Variables</strong>:\n",
    "\n",
    "Instance variables are specific to each instance (object) of a class. They hold data that is unique to each object. Instance variables are defined within the methods of a class, usually within the constructor (\"__init__\" method) or other instance methods. Each object has its own copy of instance variables, and changes made to an instance variable are specific to that particular object. Instance variables are accessed using the instance name followed by the dot notation."
   ]
  },
  {
   "cell_type": "code",
   "execution_count": 4,
   "id": "5c1191fb",
   "metadata": {},
   "outputs": [
    {
     "name": "stdout",
     "output_type": "stream",
     "text": [
      "2\n",
      "2\n",
      "Royal Enfield\n",
      "red\n"
     ]
    }
   ],
   "source": [
    "class Bike:\n",
    "    \n",
    "    wheels = 2                         # Class variable\n",
    "\n",
    "    def __init__(self, brand, color):\n",
    "        \n",
    "        self.brand = brand             # Instance variables     \n",
    "        self.color = color\n",
    "\n",
    "# Creating instances of the Car class\n",
    "\n",
    "bike1 = Bike(\"Royal Enfield\", \"blue\")\n",
    "bike2 = Bike(\"BMW\", \"red\")\n",
    "\n",
    "# Accessing class variable\n",
    "\n",
    "print(bike1.wheels)\n",
    "print(bike2.wheels)\n",
    "\n",
    "# Accessing instance variables\n",
    "\n",
    "print(bike1.brand)  \n",
    "print(bike2.color)  \n"
   ]
  },
  {
   "cell_type": "markdown",
   "id": "1b877299",
   "metadata": {},
   "source": [
    "<p>&nbsp;-----------------------------------------------------------------------------------&nbsp;&nbsp;</p>"
   ]
  },
  {
   "cell_type": "markdown",
   "id": "25f34985",
   "metadata": {},
   "source": [
    "### Q.6. What is the purpose of the self parameter in Python class methods?"
   ]
  },
  {
   "cell_type": "markdown",
   "id": "6520a4ac",
   "metadata": {},
   "source": [
    "<p><strong>Ans:</strong></p>\n",
    "\n",
    "In Python class methods, the self parameter represents the instance (object) of the class calling the method. It is a convention to name the first parameter of instance methods as self, although you can use any valid variable name in its place. The purpose of the self parameter is to reference and access the attributes and methods of the calling instance within the method."
   ]
  },
  {
   "cell_type": "markdown",
   "id": "b6677f93",
   "metadata": {},
   "source": [
    "<p>&nbsp;-----------------------------------------------------------------------------------&nbsp;&nbsp;</p>"
   ]
  },
  {
   "cell_type": "markdown",
   "id": "7d24a58f",
   "metadata": {},
   "source": [
    "### Q.7. For a library management system, you have to design the \"Book\" class with OOP principles in mind. The “Book” class will have following attributes:\n",
    "\n",
    "<ol>\n",
    "\n",
    "a. title: Represents the title of the book.\n",
    "    \n",
    "b. author: Represents the author(s) of the book.\n",
    "    \n",
    "c. isbn: Represents the ISBN (International Standard Book Number) of the book.\n",
    "    \n",
    "d. publication_year: Represents the year of publication of the book.\n",
    "    \n",
    "e. available_copies: Represents the number of copies available for checkout.\n",
    "    \n",
    "    \n",
    "The class will also include the following methods:\n",
    "a. check_out(self): Decrements the available copies by one if there are copies\n",
    "available for checkout.\n",
    "    \n",
    "b. return_book(self): Increments the available copies by one when a book is\n",
    "returned.\n",
    "    \n",
    "c. display_book_info(self): Displays the information about the book, including its\n",
    "attributes and the number of available copies.\n",
    "</ol>"
   ]
  },
  {
   "cell_type": "code",
   "execution_count": 5,
   "id": "efda00f9",
   "metadata": {},
   "outputs": [],
   "source": [
    "# creating the class \"Book\"\n",
    "\n",
    "class Book:\n",
    "    \n",
    "    def __init__(self,title,author,isbn,publication_year,available_copies=1):\n",
    "        \n",
    "        self.title = title\n",
    "        self.author = author\n",
    "        self.isbn = isbn\n",
    "        self.publication_year=publication_year\n",
    "        self.available_copies=available_copies\n",
    "        self.total_copies = self.available_copies\n",
    "        \n",
    "    def check_out(self):\n",
    "        \n",
    "        print(f\"Before checking out, the no of available copies are {self.available_copies} !\")\n",
    "    \n",
    "        if self.available_copies != 0:\n",
    "            \n",
    "            self.available_copies -= 1\n",
    "            print(f\"After checking out, the no of available copies are {self.available_copies} !\")\n",
    "        \n",
    "        else:\n",
    "            \n",
    "            print(f\"Oops, no books are available for check out!\")\n",
    "            \n",
    "    def return_book(self):\n",
    "        \n",
    "        if self.available_copies != self.total_copies: \n",
    "        \n",
    "            self.available_copies += 1\n",
    "            print(f\"After returning, The no of available copies are {self.available_copies} !\")\n",
    "            \n",
    "        else:\n",
    "            print(f\"All the books are returned!\")\n",
    "            \n",
    "            \n",
    "    def display_book_info(self):\n",
    "        \n",
    "        print(f\"The book {self.title}, written by {self.author}, published in the year {self.publication_year}.\")\n",
    "        print(f\"ISBN no: {self.isbn}\")\n",
    "        print(f\"The no of available copies are {self.available_copies} !\")"
   ]
  },
  {
   "cell_type": "code",
   "execution_count": 6,
   "id": "aad9d393",
   "metadata": {},
   "outputs": [
    {
     "name": "stdout",
     "output_type": "stream",
     "text": [
      "Stories\n",
      "Alice\n",
      "ABCDEF0101\n",
      "1992\n",
      "10\n"
     ]
    }
   ],
   "source": [
    "book1 = Book(\"Stories\",\"Alice\",\"ABCDEF0101\",1992,10)\n",
    "\n",
    "print(book1.title)\n",
    "print(book1.author)\n",
    "print(book1.isbn)\n",
    "print(book1.publication_year)\n",
    "print(book1.available_copies)"
   ]
  },
  {
   "cell_type": "code",
   "execution_count": 7,
   "id": "3aa3f96e",
   "metadata": {},
   "outputs": [
    {
     "name": "stdout",
     "output_type": "stream",
     "text": [
      "Before checking out, the no of available copies are 10 !\n",
      "After checking out, the no of available copies are 9 !\n"
     ]
    }
   ],
   "source": [
    "book1.check_out()"
   ]
  },
  {
   "cell_type": "code",
   "execution_count": 8,
   "id": "5e6d3f5c",
   "metadata": {},
   "outputs": [
    {
     "name": "stdout",
     "output_type": "stream",
     "text": [
      "After returning, The no of available copies are 10 !\n"
     ]
    }
   ],
   "source": [
    "book1.return_book()"
   ]
  },
  {
   "cell_type": "code",
   "execution_count": 9,
   "id": "a8bf1cba",
   "metadata": {},
   "outputs": [
    {
     "name": "stdout",
     "output_type": "stream",
     "text": [
      "The book Stories, written by Alice, published in the year 1992.\n",
      "ISBN no: ABCDEF0101\n",
      "The no of available copies are 10 !\n"
     ]
    }
   ],
   "source": [
    "book1.display_book_info()"
   ]
  },
  {
   "cell_type": "markdown",
   "id": "16787d65",
   "metadata": {},
   "source": [
    "<p>&nbsp;-----------------------------------------------------------------------------------&nbsp;&nbsp;</p>"
   ]
  },
  {
   "cell_type": "markdown",
   "id": "ff3c02dc",
   "metadata": {},
   "source": [
    "### Q.8. For a ticket booking system, you have to design the \"Ticket\" class with OOP principles in mind. The “Ticket” class should have the following attributes:\n",
    "\n",
    "a. ticket_id: Represents the unique identifier for the ticket.\n",
    "\n",
    "b. event_name: Represents the name of the event.\n",
    "\n",
    "c. event_date: Represents the date of the event.\n",
    "\n",
    "d. venue: Represents the venue of the event.\n",
    "\n",
    "e. seat_number: Represents the seat number associated with the ticket.\n",
    "\n",
    "f. price: Represents the price of the ticket.\n",
    "\n",
    "g. is_reserved: Represents the reservation status of the ticket.\n",
    "\n",
    "The class also includes the following methods:\n",
    "a. reserve_ticket(self): Marks the ticket as reserved if it is not already reserved.\n",
    "\n",
    "b. cancel_reservation(self): Cancels the reservation of the ticket if it is already\n",
    "reserved.\n",
    "\n",
    "c. display_ticket_info(self): Displays the information about the ticket, including its\n",
    "attributes and reservation status."
   ]
  },
  {
   "cell_type": "code",
   "execution_count": 10,
   "id": "120e9006",
   "metadata": {},
   "outputs": [],
   "source": [
    "# creating the class \"Book\"\n",
    "\n",
    "class Ticket:\n",
    "    \n",
    "    def __init__(self,ticket_id,event_name,event_date,venue,seat_number,price,is_reserved=True):\n",
    "        \n",
    "        self.ticket_id = ticket_id\n",
    "        self.event_name = event_name\n",
    "        self.event_date = event_date\n",
    "        self.venue = venue\n",
    "        self.seat_number = seat_number\n",
    "        self.price = price\n",
    "        self.is_reserved = is_reserved         # by default, the reservation status is \"True\"\n",
    "        \n",
    "    def reserve_ticket(self):\n",
    "        \n",
    "        if self.is_reserved != True:\n",
    "            self.is_reserved = True\n",
    "            print(\"Your ticket is reversed!\")\n",
    "            \n",
    "        else:\n",
    "            print(\"Your ticket is already reversed!\")\n",
    "    \n",
    "    def cancel_reservation(self):\n",
    "        \n",
    "        if self.is_reserved == True:\n",
    "            self.is_reserved = False\n",
    "            print(\"Your ticket is cancelled!\")\n",
    "        else:\n",
    "            print(\"Your ticket is already cancelled!\")\n",
    "            \n",
    "    def display_ticket_info(self):\n",
    "        \n",
    "        print(\"Your PNR no: \",self.ticket_id)\n",
    "        print(\"Your journey details \",self.event_name)\n",
    "        print(\"Your travel date: \",self.event_date)\n",
    "        print(\"Your place of ticket booking: \",self.venue)\n",
    "        print(\"Your seat no: \",self.seat_number)\n",
    "        print(\"Your ticket price: \",self.price)\n",
    "        print(\"Your ticket status: \",self.is_reserved)"
   ]
  },
  {
   "cell_type": "code",
   "execution_count": 11,
   "id": "5af4d03d",
   "metadata": {},
   "outputs": [],
   "source": [
    "my_ticket = Ticket(\"12345\",\"BLR to New Delhi\",\"2023-01-01\",\"BLR\",\"5A\",5000,False)"
   ]
  },
  {
   "cell_type": "code",
   "execution_count": 12,
   "id": "85f571e3",
   "metadata": {},
   "outputs": [
    {
     "name": "stdout",
     "output_type": "stream",
     "text": [
      "12345\n",
      "BLR to New Delhi\n",
      "2023-01-01\n",
      "BLR\n",
      "5A\n",
      "5000\n",
      "False\n"
     ]
    }
   ],
   "source": [
    "print(my_ticket.ticket_id)\n",
    "print(my_ticket.event_name)\n",
    "print(my_ticket.event_date)\n",
    "print(my_ticket.venue)\n",
    "print(my_ticket.seat_number)\n",
    "print(my_ticket.price)\n",
    "print(my_ticket.is_reserved)"
   ]
  },
  {
   "cell_type": "code",
   "execution_count": 13,
   "id": "8acc00d4",
   "metadata": {},
   "outputs": [
    {
     "name": "stdout",
     "output_type": "stream",
     "text": [
      "Your ticket is reversed!\n"
     ]
    }
   ],
   "source": [
    "my_ticket.reserve_ticket()"
   ]
  },
  {
   "cell_type": "code",
   "execution_count": 14,
   "id": "d1d8fb42",
   "metadata": {},
   "outputs": [
    {
     "name": "stdout",
     "output_type": "stream",
     "text": [
      "Your ticket is already reversed!\n"
     ]
    }
   ],
   "source": [
    "my_ticket.reserve_ticket()"
   ]
  },
  {
   "cell_type": "code",
   "execution_count": 15,
   "id": "dd41f2f7",
   "metadata": {},
   "outputs": [
    {
     "name": "stdout",
     "output_type": "stream",
     "text": [
      "Your ticket is cancelled!\n"
     ]
    }
   ],
   "source": [
    "my_ticket.cancel_reservation()"
   ]
  },
  {
   "cell_type": "code",
   "execution_count": 16,
   "id": "ad6975cf",
   "metadata": {},
   "outputs": [
    {
     "name": "stdout",
     "output_type": "stream",
     "text": [
      "Your ticket is already cancelled!\n"
     ]
    }
   ],
   "source": [
    "my_ticket.cancel_reservation()"
   ]
  },
  {
   "cell_type": "code",
   "execution_count": 17,
   "id": "c1b7ecb8",
   "metadata": {},
   "outputs": [
    {
     "name": "stdout",
     "output_type": "stream",
     "text": [
      "Your PNR no:  12345\n",
      "Your journey details  BLR to New Delhi\n",
      "Your travel date:  2023-01-01\n",
      "Your place of ticket booking:  BLR\n",
      "Your seat no:  5A\n",
      "Your ticket price:  5000\n",
      "Your ticket status:  False\n"
     ]
    }
   ],
   "source": [
    "my_ticket.display_ticket_info()"
   ]
  },
  {
   "cell_type": "markdown",
   "id": "8b52a5eb",
   "metadata": {},
   "source": [
    "<p>&nbsp;-----------------------------------------------------------------------------------&nbsp;&nbsp;</p>"
   ]
  },
  {
   "cell_type": "markdown",
   "id": "122177d1",
   "metadata": {},
   "source": [
    "### Q.9. You are creating a shopping cart for an e-commerce website. Using OOP to model the \"ShoppingCart\" functionality the class should contain following attributes and methods:\n",
    "\n",
    "a. items: Represents the list of items in the shopping cart.\n",
    "\n",
    "The class also includes the following methods:\n",
    "a. add_item(self, item): Adds an item to the shopping cart by appending it to the\n",
    "list of items.\n",
    "\n",
    "b. remove_item(self, item): Removes an item from the shopping cart if it exists in\n",
    "the list.\n",
    "\n",
    "c. view_cart(self): Displays the items currently present in the shopping cart.\n",
    "\n",
    "d. clear_cart(self): Clears all items from the shopping cart by reassigning an\n",
    "empty list to the items attribute."
   ]
  },
  {
   "cell_type": "code",
   "execution_count": 18,
   "id": "5eb579bf",
   "metadata": {},
   "outputs": [],
   "source": [
    "# creating the class \"ShoppingCart\"\n",
    "\n",
    "class ShoppingCart:\n",
    "    \n",
    "    def __init__(self,owner):\n",
    "        \n",
    "        self.owner = owner\n",
    "        self.items = []\n",
    "        \n",
    "    def add_item(self, item):\n",
    "        \n",
    "        self.items.append(item)\n",
    "        print(f\"The item, {item} is added!\")\n",
    "              \n",
    "    def remove_item(self, item):\n",
    "        \n",
    "        if item in self.items:\n",
    "            self.items.remove(item)\n",
    "            print(f\"The item, {item} is removed!\")\n",
    "        \n",
    "    def view_cart(self):\n",
    "        \n",
    "        if len(self.items) != 0:\n",
    "              \n",
    "            print(\"Your Cart\")\n",
    "            for item in self.items:\n",
    "                print(item)\n",
    "        else:\n",
    "              print(\"Your cart is empty!\")\n",
    "            \n",
    "    def clear_cart(self):\n",
    "              \n",
    "              del self.items[:]\n",
    "              \n",
    "              print(\"Your cart is cleared!\")\n",
    "              \n",
    "              "
   ]
  },
  {
   "cell_type": "code",
   "execution_count": 19,
   "id": "56c2a172",
   "metadata": {},
   "outputs": [],
   "source": [
    "Alice_Cart = ShoppingCart(\"Alice\")"
   ]
  },
  {
   "cell_type": "code",
   "execution_count": 20,
   "id": "b5c519b5",
   "metadata": {},
   "outputs": [
    {
     "name": "stdout",
     "output_type": "stream",
     "text": [
      "The item, Rice is added!\n"
     ]
    }
   ],
   "source": [
    "Alice_Cart.add_item(\"Rice\")"
   ]
  },
  {
   "cell_type": "code",
   "execution_count": 21,
   "id": "e2ca4e86",
   "metadata": {},
   "outputs": [
    {
     "name": "stdout",
     "output_type": "stream",
     "text": [
      "The item, Oil is added!\n"
     ]
    }
   ],
   "source": [
    "Alice_Cart.add_item(\"Oil\")"
   ]
  },
  {
   "cell_type": "code",
   "execution_count": 22,
   "id": "e9fa46af",
   "metadata": {},
   "outputs": [
    {
     "name": "stdout",
     "output_type": "stream",
     "text": [
      "The item, Oil is removed!\n"
     ]
    }
   ],
   "source": [
    "Alice_Cart.remove_item(\"Oil\")"
   ]
  },
  {
   "cell_type": "code",
   "execution_count": 23,
   "id": "e3d5adae",
   "metadata": {},
   "outputs": [
    {
     "name": "stdout",
     "output_type": "stream",
     "text": [
      "Your Cart\n",
      "Rice\n"
     ]
    }
   ],
   "source": [
    "Alice_Cart.view_cart()"
   ]
  },
  {
   "cell_type": "code",
   "execution_count": 24,
   "id": "bde8c840",
   "metadata": {},
   "outputs": [
    {
     "name": "stdout",
     "output_type": "stream",
     "text": [
      "Your cart is cleared!\n"
     ]
    }
   ],
   "source": [
    "Alice_Cart.clear_cart()"
   ]
  },
  {
   "cell_type": "code",
   "execution_count": 25,
   "id": "7d5297b9",
   "metadata": {},
   "outputs": [
    {
     "name": "stdout",
     "output_type": "stream",
     "text": [
      "Your cart is empty!\n"
     ]
    }
   ],
   "source": [
    "Alice_Cart.view_cart()"
   ]
  },
  {
   "cell_type": "markdown",
   "id": "d010eb62",
   "metadata": {},
   "source": [
    "<p>&nbsp;-----------------------------------------------------------------------------------&nbsp;&nbsp;</p>"
   ]
  },
  {
   "cell_type": "markdown",
   "id": "ccaf7948",
   "metadata": {},
   "source": [
    "### Q.10. Imagine a school management system. You have to design the \"Student\" class using OOP concepts.The “Student” class has the following attributes:\n",
    "\n",
    "a. name: Represents the name of the student.\n",
    "\n",
    "b. age: Represents the age of the student.\n",
    "\n",
    "c. grade: Represents the grade or class of the student.\n",
    "\n",
    "d. student_id: Represents the unique identifier for the student.\n",
    "\n",
    "e. attendance: Represents the attendance record of the student.\n",
    "\n",
    "The class should also include the following methods:\n",
    "\n",
    "a. update_attendance(self, date, status): Updates the attendance record of the\n",
    "student for a given date with the provided status (e.g., present or absent).\n",
    "\n",
    "b. get_attendance(self): Returns the attendance record of the student.\n",
    "\n",
    "c. get_average_attendance(self): Calculates and returns the average attendance percentage of the student based on their attendance record."
   ]
  },
  {
   "cell_type": "code",
   "execution_count": 26,
   "id": "6905c2f2",
   "metadata": {},
   "outputs": [],
   "source": [
    "# creating the class \"Student\"\n",
    "\n",
    "class Student:\n",
    "    \n",
    "    def __init__(self,name,age,grade,student_id):\n",
    "        \n",
    "        self.name = name\n",
    "        self.age = age\n",
    "        self.grade = grade\n",
    "        self.student_id = student_id\n",
    "        self.attendance = {}\n",
    "        \n",
    "    def update_attendance(self, date, status):\n",
    "        \n",
    "        self.attendance[date] = status\n",
    "        \n",
    "    def get_attendance(self):\n",
    "        \n",
    "        if len(self.attendance) != 0:\n",
    "            \n",
    "            for date,status in self.attendance.items():\n",
    "                print(f\"Date: {date} : Attendence Status: {status}\")\n",
    "                \n",
    "        else:\n",
    "            \n",
    "            print(\"No attendence record found!\")\n",
    "            \n",
    "    def get_average_attendance(self):\n",
    "        \n",
    "        total_days = len(self.attendance)\n",
    "        present_days = sum(value == 'present' for value in self.attendance.values())\n",
    "        attendance_percentage = (present_days / total_days) * 100 if total_days > 0 else 0\n",
    "        print(f\"The average attendence of {self.name} is {attendance_percentage}!\")"
   ]
  },
  {
   "cell_type": "code",
   "execution_count": 27,
   "id": "2cb6ab18",
   "metadata": {},
   "outputs": [],
   "source": [
    "student1 = Student(\"Alice\",22,\"A\",\"BECO001\")"
   ]
  },
  {
   "cell_type": "code",
   "execution_count": 28,
   "id": "04f66722",
   "metadata": {},
   "outputs": [
    {
     "name": "stdout",
     "output_type": "stream",
     "text": [
      "Alice\n",
      "22\n",
      "A\n",
      "BECO001\n"
     ]
    }
   ],
   "source": [
    "print(student1.name)\n",
    "print(student1.age)\n",
    "print(student1.grade)\n",
    "print(student1.student_id)"
   ]
  },
  {
   "cell_type": "code",
   "execution_count": 29,
   "id": "c2d1073f",
   "metadata": {},
   "outputs": [
    {
     "name": "stdout",
     "output_type": "stream",
     "text": [
      "No attendence record found!\n"
     ]
    }
   ],
   "source": [
    "student1.get_attendance()"
   ]
  },
  {
   "cell_type": "code",
   "execution_count": 30,
   "id": "90d999a6",
   "metadata": {},
   "outputs": [],
   "source": [
    "student1.update_attendance(\"15th JULY\",\"present\")"
   ]
  },
  {
   "cell_type": "code",
   "execution_count": 31,
   "id": "59aabba2",
   "metadata": {},
   "outputs": [
    {
     "name": "stdout",
     "output_type": "stream",
     "text": [
      "Date: 15th JULY : Attendence Status: present\n"
     ]
    }
   ],
   "source": [
    "student1.get_attendance()"
   ]
  },
  {
   "cell_type": "code",
   "execution_count": 32,
   "id": "374afc86",
   "metadata": {},
   "outputs": [],
   "source": [
    "student1.update_attendance(\"16th JULY\",\"present\")"
   ]
  },
  {
   "cell_type": "code",
   "execution_count": 33,
   "id": "3dd093a2",
   "metadata": {},
   "outputs": [],
   "source": [
    "student1.update_attendance(\"17th JULY\",\"absent\")"
   ]
  },
  {
   "cell_type": "code",
   "execution_count": 34,
   "id": "82796751",
   "metadata": {},
   "outputs": [
    {
     "name": "stdout",
     "output_type": "stream",
     "text": [
      "Date: 15th JULY : Attendence Status: present\n",
      "Date: 16th JULY : Attendence Status: present\n",
      "Date: 17th JULY : Attendence Status: absent\n"
     ]
    }
   ],
   "source": [
    "student1.get_attendance()"
   ]
  },
  {
   "cell_type": "code",
   "execution_count": 35,
   "id": "b6f8e7cb",
   "metadata": {},
   "outputs": [
    {
     "name": "stdout",
     "output_type": "stream",
     "text": [
      "The average attendence of Alice is 66.66666666666666!\n"
     ]
    }
   ],
   "source": [
    "student1.get_average_attendance()"
   ]
  },
  {
   "cell_type": "markdown",
   "id": "426917d4",
   "metadata": {},
   "source": [
    "<p>&nbsp;-----------------------------------------------------------------------------------&nbsp;&nbsp;</p>"
   ]
  }
 ],
 "metadata": {
  "kernelspec": {
   "display_name": "Python 3 (ipykernel)",
   "language": "python",
   "name": "python3"
  },
  "language_info": {
   "codemirror_mode": {
    "name": "ipython",
    "version": 3
   },
   "file_extension": ".py",
   "mimetype": "text/x-python",
   "name": "python",
   "nbconvert_exporter": "python",
   "pygments_lexer": "ipython3",
   "version": "3.10.9"
  }
 },
 "nbformat": 4,
 "nbformat_minor": 5
}
