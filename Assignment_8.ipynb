{
 "cells": [
  {
   "cell_type": "markdown",
   "id": "4d44f22a",
   "metadata": {},
   "source": [
    "# 10 June\n",
    "\n",
    "# Python Basic - 3"
   ]
  },
  {
   "cell_type": "markdown",
   "id": "46e5c5ae",
   "metadata": {},
   "source": [
    "### Q.1. In Python, what is the difference between a built-in function and a user-defined function? Provide an example of each."
   ]
  },
  {
   "cell_type": "markdown",
   "id": "4584aa63",
   "metadata": {},
   "source": [
    "<p><strong>Ans:</strong></p>\n",
    "\n",
    "<p><strong>A built-in functions are functions that are readily available for use without requiring any additional libraries or imports. Here are some commonly used built-in functions in Python:</strong></p>\n",
    "\n",
    "\n",
    "<ol>\n",
    "\n",
    "<li>\n",
    "<p><code>print()</code>: Outputs text or variables to the console.</p>\n",
    "</li>\n",
    "<li>\n",
    "<p><code>len()</code>: Returns the length (number of items) of an object such as a string, list, or tuple.</p>\n",
    "</li>\n",
    "<li>\n",
    "<p><code>type()</code>: Returns the type of an object.</p>\n",
    "</li>\n",
    "<li>\n",
    "<p><code>input()</code>: Reads input from the user via the console. etc</p>\n",
    "</li>\n",
    "</ol>\n",
    "    \n",
    "<p><strong>A user-defined function in Python is a code block that performs a specific task and is defined by the programmer. Here are the key points about user-defined functions:</strong></p>\n",
    "<ol>\n",
    "<li>\n",
    "<p><strong>Definition</strong>: User-defined functions are created with the <code>def</code> keyword followed by a function name of your choosing.</p>\n",
    "</li>\n",
    "<li>\n",
    "<p><strong>Parameters</strong>: Functions can take parameters, which are values you supply to the function so it can perform a computation with them. These parameters are placed inside parentheses after the function name.</p>\n",
    "</li>\n",
    "<li>\n",
    "<p><strong>Body</strong>: After the parameters, you write a colon <code>:</code> and indent the next line to begin the function's body, which contains the statements that will be executed when the function is called.</p>\n",
    "</li>\n",
    "<li>\n",
    "<p><strong>Return</strong>: Functions can optionally return a value using the <code>return</code> statement. The value that's returned can be used in other parts of your program. If no return statement is specified, the function will return <code>None</code>.</p>\n",
    "</li>\n",
    "<li>\n",
    "<p><strong>Calling</strong>: After defining a function, you can \"call\" it by writing its name followed by parentheses <code>()</code>. If the function takes parameters, you can supply them inside these parentheses.</p>\n",
    "</li>\n",
    "</ol>\n",
    "\n"
   ]
  },
  {
   "cell_type": "code",
   "execution_count": 1,
   "id": "7fe73148",
   "metadata": {},
   "outputs": [
    {
     "name": "stdout",
     "output_type": "stream",
     "text": [
      "Built-in Function\n",
      "\n",
      "Enter your first name: Jack\n",
      "\n",
      "Your name is : Jack\n",
      "No of letters in your name is :  4\n",
      "\n",
      "User-defined Function\n",
      "\n",
      "Enter 1st number: 4\n",
      "Enter 2nd number: 3\n",
      "\n",
      "the summation of the two numbersd entered is:  7.0\n"
     ]
    }
   ],
   "source": [
    "# Example\n",
    "\n",
    "# Built-in Function\n",
    "print(\"Built-in Function\")\n",
    "\n",
    "name = input(\"\\nEnter your first name: \")               # Built-in Function input()\n",
    "\n",
    "print(\"\\nYour name is :\", name.capitalize())            # Built-in Function print() ; capitalize() \n",
    "print(\"No of letters in your name is : \",len(name))     # Built-in Function len()\n",
    "\n",
    "\n",
    "# User-defined Function\n",
    "\n",
    "print(\"\\nUser-defined Function\")\n",
    "\n",
    "def addno():\n",
    "    num1 = float(input(\"\\nEnter 1st number: \"))\n",
    "    num2 = float(input(\"Enter 2nd number: \"))\n",
    "    '''\n",
    "    This function adds two numbers\n",
    "    '''\n",
    "    return num1+num2\n",
    "\n",
    "print(\"\\nthe summation of the two numbersd entered is: \", addno())"
   ]
  },
  {
   "cell_type": "markdown",
   "id": "6f20a36a",
   "metadata": {},
   "source": [
    "<p>&nbsp;-----------------------------------------------------------------------------------&nbsp;&nbsp;</p>"
   ]
  },
  {
   "cell_type": "markdown",
   "id": "3cdae529",
   "metadata": {},
   "source": [
    "### Q.2. How can you pass arguments to a function in Python? Explain the difference between positional arguments and keyword arguments."
   ]
  },
  {
   "cell_type": "markdown",
   "id": "c3830659",
   "metadata": {},
   "source": [
    "<p><strong>Ans:</strong></p>\n",
    "\n",
    "<p>In Python, we can pass arguments to a function mainly by two ways. These are <strong>positional</strong> arguments and <strong>keyword</strong> arguments.</p>\n",
    "\n",
    "<ol>\n",
    "<li>\n",
    "<p><strong>Positional Arguments</strong>: Positional arguments are passed to a function based on their position or order. When we call a function and provide arguments without specifying their names, Python matches the arguments to the parameters of the function based on their position. The order in which we provide the arguments must match the order of the parameters in the function definition.</p>\n",
    "</li>\n",
    "<li>\n",
    "<p><strong>Keyword Arguments</strong>: Keyword arguments are passed to a function using the names of the parameters. Instead of relying on the position of the arguments, we explicitly specify the parameter name followed by its corresponding value. This allows you to provide arguments in any order and even skip some arguments if they have default values defined in the function signature.</p>\n",
    "</li>\n",
    "</ol>"
   ]
  },
  {
   "cell_type": "code",
   "execution_count": 2,
   "id": "a29c76e4",
   "metadata": {},
   "outputs": [
    {
     "name": "stdout",
     "output_type": "stream",
     "text": [
      "1.0\n"
     ]
    }
   ],
   "source": [
    "# Example\n",
    "\n",
    "# Positional Arguments\n",
    "\n",
    "def div_num(a,b):\n",
    "    \n",
    "    if b != 0:\n",
    "        return a / b\n",
    "    else:\n",
    "        return  \"Division by Zero is not possible!\"\n",
    "    \n",
    "    \n",
    "\n",
    "\n",
    "result = div_num(5,5)\n",
    "\n",
    "print(result)  "
   ]
  },
  {
   "cell_type": "code",
   "execution_count": 3,
   "id": "e81714c1",
   "metadata": {},
   "outputs": [
    {
     "name": "stdout",
     "output_type": "stream",
     "text": [
      "Hello Jack!, are you 66 years old?\n"
     ]
    }
   ],
   "source": [
    "# Example\n",
    "\n",
    "# Keyword Arguments\n",
    "\n",
    "def hello_function(fname,age):\n",
    "    \n",
    "    print(f\"Hello {fname}!, are you {age} years old?\")\n",
    "\n",
    "    \n",
    "    \n",
    "hello_function(age = 66, fname = \"Jack\") "
   ]
  },
  {
   "cell_type": "markdown",
   "id": "6312c05c",
   "metadata": {},
   "source": [
    "<p>&nbsp;-----------------------------------------------------------------------------------&nbsp;&nbsp;</p>"
   ]
  },
  {
   "cell_type": "markdown",
   "id": "11e0c96f",
   "metadata": {},
   "source": [
    "### Q.3. What is the purpose of the return statement in a function? Can a function have multiple return statements? Explain with an example."
   ]
  },
  {
   "cell_type": "markdown",
   "id": "5811d7c8",
   "metadata": {},
   "source": [
    "<p><strong>Ans:</strong></p>\n",
    "\n",
    "<p>The return statement helps in specifying the value that the function should give/return as output or return back to the caller.The return statement allows the function to communicate the result of its computation when the function is called.</p>\n",
    "\n",
    "<p>Yes!, a function have multiple return statements. We can see it from following example.</p>"
   ]
  },
  {
   "cell_type": "code",
   "execution_count": 4,
   "id": "87b9cc21",
   "metadata": {},
   "outputs": [
    {
     "name": "stdout",
     "output_type": "stream",
     "text": [
      "2nd no is larger than 1st no\n"
     ]
    }
   ],
   "source": [
    "def large_no(c,d):\n",
    "    \n",
    "    if c > d:\n",
    "        return \"1st no is larger than 2nd no\"\n",
    "    elif d > c:\n",
    "        return \"2nd no is larger than 1st no\"\n",
    "    else:\n",
    "        return \"Both the numbers are equal\"\n",
    "    \n",
    "    \n",
    "result = large_no(4,7)\n",
    "\n",
    "print(result)"
   ]
  },
  {
   "cell_type": "markdown",
   "id": "d0b87565",
   "metadata": {},
   "source": [
    "<p>&nbsp;-----------------------------------------------------------------------------------&nbsp;&nbsp;</p>"
   ]
  },
  {
   "cell_type": "markdown",
   "id": "5ee49c70",
   "metadata": {},
   "source": [
    "### Q.4. What are lambda functions in Python? How are they different from regular functions? Provide an example where a lambda function can be useful."
   ]
  },
  {
   "cell_type": "markdown",
   "id": "cb6a2030",
   "metadata": {},
   "source": [
    "<p><strong>Ans:</strong></p>\n",
    "\n",
    "<p>Lambda functions are created using the lambda keyword and are typically used for small, one-time and simple tasks.These are anonymous functions that can be defined without a name.</p>\n",
    "\n",
    "<p>Lambda functions are different from regular functions because,</p>\n",
    "<ol>\n",
    "\n",
    "<p>Lambda functions are anonymous as they don't have a specific name associated with them like regular functions. They are defined inline at the point where they are needed.\n",
    "\n",
    "Lambda functions have a compact and concise syntax. They consist of a single expression and are written in a single line.\n",
    "\n",
    "Lambda functions can only contain a single expression. This expression is evaluated and the result is returned automatically without needing an explicit return statement.</p>\n",
    "</ol>"
   ]
  },
  {
   "cell_type": "markdown",
   "id": "564edafe",
   "metadata": {},
   "source": [
    "#### An Example where lamda function is useful\n",
    "\n",
    "<p>Lambda functions are particularly useful for simple operations, making your code more concise and readable.</p>"
   ]
  },
  {
   "cell_type": "code",
   "execution_count": 5,
   "id": "f9c61892",
   "metadata": {},
   "outputs": [
    {
     "name": "stdout",
     "output_type": "stream",
     "text": [
      "120\n"
     ]
    }
   ],
   "source": [
    "from functools import reduce\n",
    " \n",
    "lists = [1, 2, 3, 4, 5]\n",
    "product = reduce(lambda x, y: x * y, lists)\n",
    "print(product)"
   ]
  },
  {
   "cell_type": "markdown",
   "id": "1e6dbdf2",
   "metadata": {},
   "source": [
    "<p>&nbsp;-----------------------------------------------------------------------------------&nbsp;&nbsp;</p>"
   ]
  },
  {
   "cell_type": "markdown",
   "id": "a0faedf0",
   "metadata": {},
   "source": [
    "### Q.5. How does the concept of \"scope\" apply to functions in Python? Explain the difference between local scope and global scope."
   ]
  },
  {
   "cell_type": "markdown",
   "id": "fe141387",
   "metadata": {},
   "source": [
    "<p><strong>Ans:</strong></p>\n",
    "\n",
    "<p>In Python, the concept of \"scope\" determines where a variable can be accessed and how it interacts with other variables in our program.In Python, there are two main types of scope: local scope and global scope.</p>\n",
    "\n",
    "<strong>Local Scope:</strong>\n",
    "Local scope refers to variables that are defined within a function. These variables are only accessible from within that specific function and are not visible outside of it. Local variables have a limited lifespan and are created when the function is called and destroyed when the function completes its execution.\n",
    "\n",
    "<strong>Global Scope:</strong>\n",
    "Global scope refers to variables that are defined outside of any function or block of code. These variables are accessible from anywhere in the program, including inside functions. Global variables have a longer lifespan than local variables, as they are created when the program starts and persist until the program terminates.\n",
    "\n",
    "The main difference between local scope and global scope is that local variables are only visible and accessible within the specific function where they are defined, while global variables can be accessed from anywhere in the program, including inside functions."
   ]
  },
  {
   "cell_type": "code",
   "execution_count": 6,
   "id": "3d3d5812",
   "metadata": {},
   "outputs": [
    {
     "name": "stdout",
     "output_type": "stream",
     "text": [
      "Enter the first no: 4\n",
      "Enter the second no: 6\n"
     ]
    },
    {
     "data": {
      "text/plain": [
       "24.0"
      ]
     },
     "execution_count": 6,
     "metadata": {},
     "output_type": "execute_result"
    }
   ],
   "source": [
    "# Example: Local Scope\n",
    "\n",
    "# variable a and b are defined INSIDE the function.\n",
    "\n",
    "def multi_no():\n",
    "    \n",
    "    a = float(input(\"Enter the first no: \"))\n",
    "    b = float(input(\"Enter the second no: \"))\n",
    "    \n",
    "    return a*b\n",
    "\n",
    "multi_no()"
   ]
  },
  {
   "cell_type": "code",
   "execution_count": 7,
   "id": "e409a688",
   "metadata": {},
   "outputs": [
    {
     "name": "stdout",
     "output_type": "stream",
     "text": [
      "Enter the first no: 3\n",
      "Enter the second no: 6\n"
     ]
    },
    {
     "data": {
      "text/plain": [
       "18.0"
      ]
     },
     "execution_count": 7,
     "metadata": {},
     "output_type": "execute_result"
    }
   ],
   "source": [
    "# Example: Global Scope\n",
    "\n",
    "# variable a and b are defined OUTSIDE of the function.\n",
    "\n",
    "a = float(input(\"Enter the first no: \"))\n",
    "b = float(input(\"Enter the second no: \"))\n",
    "\n",
    "def multi_no():\n",
    "\n",
    "    return a*b\n",
    "\n",
    "multi_no()"
   ]
  },
  {
   "cell_type": "markdown",
   "id": "311ec33e",
   "metadata": {},
   "source": [
    "<p>&nbsp;-----------------------------------------------------------------------------------&nbsp;&nbsp;</p>"
   ]
  },
  {
   "cell_type": "markdown",
   "id": "16d3166d",
   "metadata": {},
   "source": [
    "### Q.6. How can you use the \"return\" statement in a Python function to return multiple values?"
   ]
  },
  {
   "cell_type": "markdown",
   "id": "bb893be2",
   "metadata": {},
   "source": [
    "<p><strong>Ans:</strong></p>\n",
    "\n",
    "<p>In Python, you can use the return statement in a function to return multiple values by simply separating the values with commas. When you do this, Python automatically packs the values into a tuple and returns it. The caller of the function can then unpack the returned tuple to access the individual values. We can see it from following example.</p>"
   ]
  },
  {
   "cell_type": "code",
   "execution_count": 8,
   "id": "c19bd7e0",
   "metadata": {},
   "outputs": [
    {
     "name": "stdout",
     "output_type": "stream",
     "text": [
      "('Alice', 25, 'Data Scientist')\n",
      "Alice\n",
      "25\n",
      "Data Scientist\n"
     ]
    }
   ],
   "source": [
    "# Example\n",
    "\n",
    "def personal_info():\n",
    "    name = \"Alice\"\n",
    "    age = 25\n",
    "    occupation = \"Data Scientist\"\n",
    "    return name, age, occupation\n",
    "\n",
    "\n",
    "person_info = personal_info()\n",
    "\n",
    "print(person_info)  \n",
    "print(person_info[0])  \n",
    "print(person_info[1])  \n",
    "print(person_info[2]) \n"
   ]
  },
  {
   "cell_type": "markdown",
   "id": "6b2c5200",
   "metadata": {},
   "source": [
    "<p>&nbsp;-----------------------------------------------------------------------------------&nbsp;&nbsp;</p>"
   ]
  },
  {
   "cell_type": "markdown",
   "id": "7caddf1b",
   "metadata": {},
   "source": [
    "### Q.7. What is the difference between the \"pass by value\" and \"pass by reference\" concepts when it comes to function arguments in Python?"
   ]
  },
  {
   "cell_type": "markdown",
   "id": "1be35bd9",
   "metadata": {},
   "source": [
    "<p><strong>Ans:</strong></p>\n",
    "\n",
    "<p><strong>Pass by Value:</strong>\n",
    "In a \"pass by value\" scenario, a copy of the value of the variable is passed to the function. Any modifications made to the parameter within the function do not affect the original variable.\n",
    "\n",
    "However, in Python, even though the values of immutable objects (e.g., numbers, strings, tuples) are indeed passed by value, it is important to understand that the values themselves are references to objects. Thus, when immutable objects are modified within a function, a new object is created, and the original variable outside the function remains unchanged.\n",
    "\n",
    "<strong>Pass by Reference:</strong>\n",
    "In a \"pass by reference\" scenario, a reference or pointer to the original variable is passed to the function. Consequently, any modifications made to the parameter within the function also affect the original variable outside the function.\n",
    "\n",
    "However, in Python, all objects, including mutable ones (e.g., lists, dictionaries), are passed by reference. When a mutable object is modified within a function, the changes are reflected in the original object itself.</p>"
   ]
  },
  {
   "cell_type": "code",
   "execution_count": 9,
   "id": "33a41615",
   "metadata": {},
   "outputs": [
    {
     "name": "stdout",
     "output_type": "stream",
     "text": [
      "Inside function: 30\n",
      "Outside function: 6\n"
     ]
    }
   ],
   "source": [
    "# Example\n",
    "\n",
    "# Pass by Value\n",
    "\n",
    "def five_times(x):\n",
    "    x *= 5\n",
    "    print(\"Inside function:\", x)\n",
    "\n",
    "num = 6\n",
    "five_times(num)\n",
    "print(\"Outside function:\", num)\n"
   ]
  },
  {
   "cell_type": "code",
   "execution_count": 11,
   "id": "3255d884",
   "metadata": {},
   "outputs": [
    {
     "name": "stdout",
     "output_type": "stream",
     "text": [
      "Inside function: [1, 2, 3, 10]\n",
      "Outside function: [1, 2, 3, 10]\n"
     ]
    }
   ],
   "source": [
    "# Example\n",
    "\n",
    "# Pass by Reference\n",
    "\n",
    "def append_item(lst):\n",
    "    lst.append(10)\n",
    "    print(\"Inside function:\", lst)\n",
    "\n",
    "my_list = [1, 2, 3]\n",
    "append_item(my_list)\n",
    "print(\"Outside function:\", my_list)\n"
   ]
  },
  {
   "cell_type": "markdown",
   "id": "8bcfa5ae",
   "metadata": {},
   "source": [
    "<p>&nbsp;-----------------------------------------------------------------------------------&nbsp;&nbsp;</p>"
   ]
  },
  {
   "cell_type": "markdown",
   "id": "83c4a776",
   "metadata": {},
   "source": [
    "### Q.8. Create a function that can intake integer or decimal value and do following operations:\n",
    "\n",
    "### a. Logarithmic function (log x)\n",
    "### b. Exponential function (exp(x))\n",
    "### c. Power function with base 2 (2^x)\n",
    "### d. Square root"
   ]
  },
  {
   "cell_type": "markdown",
   "id": "a2e876be",
   "metadata": {},
   "source": [
    "<p><strong>Ans:</strong></p>\n"
   ]
  },
  {
   "cell_type": "code",
   "execution_count": 10,
   "id": "0920311e",
   "metadata": {},
   "outputs": [
    {
     "name": "stdout",
     "output_type": "stream",
     "text": [
      "Enter your number: 4\n",
      "\n",
      "The log( 4.0 ) is: 1.3862943611198906\n",
      "The e^ 4.0  is: 54.598150033144236\n",
      "The 2^ 4.0  is: 16.0\n",
      "The square root of  4.0  is: 2.0\n"
     ]
    }
   ],
   "source": [
    "def My_Calculator():\n",
    "    \n",
    "    import math\n",
    "    \n",
    "    number = float(input(\"Enter your number: \"))\n",
    "\n",
    "    # Logarithmic function (log x)\n",
    "    log_result = math.log(number)\n",
    "\n",
    "    # Exponential function (exp(x))\n",
    "    exp_result = math.exp(number)\n",
    "\n",
    "    # Power function with base 2 (2^x)\n",
    "    power_result = 2 ** number\n",
    "\n",
    "    # Square root\n",
    "    sqrt_result = math.sqrt(number)\n",
    "    \n",
    "    return {\n",
    "        \"no\": number,\n",
    "        \"Logarithmic\": log_result,\n",
    "        \"Exponential\": exp_result,\n",
    "        \"Power_function\": power_result,\n",
    "        \"Square_root\": sqrt_result,\n",
    "    }\n",
    "\n",
    "# Call the function\n",
    "results = My_Calculator()\n",
    "print()\n",
    "print(\"The log(\",results[\"no\"],\") is:\", results[\"Logarithmic\"])\n",
    "print(\"The e^\",results[\"no\"],\" is:\", results[\"Exponential\"])\n",
    "print(\"The 2^\",results[\"no\"],\" is:\", results[\"Power_function\"])\n",
    "print(\"The square root of \",results[\"no\"],\" is:\", results[\"Square_root\"])"
   ]
  },
  {
   "cell_type": "markdown",
   "id": "5c580978",
   "metadata": {},
   "source": [
    "<p>&nbsp;-----------------------------------------------------------------------------------&nbsp;&nbsp;</p>"
   ]
  },
  {
   "cell_type": "markdown",
   "id": "b75abe6d",
   "metadata": {},
   "source": [
    "### Q.9. Create a function that takes a full name as an argument and returns first name and last name."
   ]
  },
  {
   "cell_type": "markdown",
   "id": "a30f8524",
   "metadata": {},
   "source": [
    "<p><strong>Ans:</strong></p>\n"
   ]
  },
  {
   "cell_type": "code",
   "execution_count": 11,
   "id": "50430851",
   "metadata": {},
   "outputs": [
    {
     "name": "stdout",
     "output_type": "stream",
     "text": [
      "Enter your full name with a space: subhSH bOSE\n",
      "\n",
      "Your first name is:  Subhsh\n",
      "Your last name is:  Bose\n"
     ]
    }
   ],
   "source": [
    "def name_split():\n",
    "    \n",
    "    name = input(\"Enter your full name with a space: \")\n",
    "    \n",
    "    first_name = \"\"\n",
    "    \n",
    "    for i in range(len(name)):\n",
    "        if name[i] != \" \":\n",
    "            first_name += name[i]\n",
    "            j = i\n",
    "        else:\n",
    "            break\n",
    "    \n",
    "    last_name = name[j+2:]\n",
    "    \n",
    "    print(\"\\nYour first name is: \", first_name.capitalize())\n",
    "    print(\"Your last name is: \", last_name.capitalize())\n",
    "    \n",
    "\n",
    "name_split()"
   ]
  },
  {
   "cell_type": "markdown",
   "id": "e94330e7",
   "metadata": {},
   "source": [
    "<p>&nbsp;-----------------------------------------------------------------------------------&nbsp;&nbsp;</p>"
   ]
  }
 ],
 "metadata": {
  "kernelspec": {
   "display_name": "Python 3 (ipykernel)",
   "language": "python",
   "name": "python3"
  },
  "language_info": {
   "codemirror_mode": {
    "name": "ipython",
    "version": 3
   },
   "file_extension": ".py",
   "mimetype": "text/x-python",
   "name": "python",
   "nbconvert_exporter": "python",
   "pygments_lexer": "ipython3",
   "version": "3.10.9"
  }
 },
 "nbformat": 4,
 "nbformat_minor": 5
}
